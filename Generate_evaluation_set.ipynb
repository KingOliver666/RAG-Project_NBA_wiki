{
 "cells": [
  {
   "cell_type": "code",
   "execution_count": 34,
   "id": "3990ba76",
   "metadata": {},
   "outputs": [],
   "source": [
    "import os\n",
    "import random\n",
    "from dotenv import load_dotenv\n",
    "# ✅ Step 1: Load environment variables\n",
    "load_dotenv()\n",
    "# Make sure to set your OpenAI API key in the .env file or directly here\n",
    "\n",
    "# ✅ Step 2: Import libraries\n",
    "from langchain_openai import OpenAIEmbeddings\n",
    "from langchain_community.vectorstores import FAISS\n",
    "from langchain import hub\n",
    "import openai\n",
    "import os\n",
    "from dotenv import load_dotenv\n",
    "from langchain_openai import ChatOpenAI\n",
    "from langchain.prompts import PromptTemplate\n",
    "from langchain_core.output_parsers import JsonOutputParser\n",
    "from langchain_core.runnables import RunnableParallel, RunnablePassthrough\n",
    "\n",
    "openai.api_key = os.getenv(\"OPENAI_API_KEY\")  # Ensure you have set this in your .env file\n",
    "embedding = OpenAIEmbeddings(openai_api_key=openai.api_key)\n",
    "vectorstore = FAISS.load_local(\"nba_vector_db_semantic\", embeddings=embedding, allow_dangerous_deserialization=True)"
   ]
  },
  {
   "cell_type": "code",
   "execution_count": 35,
   "id": "0b53e6b6",
   "metadata": {},
   "outputs": [],
   "source": [
    "import json, pandas as pd"
   ]
  },
  {
   "cell_type": "code",
   "execution_count": 40,
   "id": "8d4b7328",
   "metadata": {},
   "outputs": [],
   "source": [
    "documents = list(vectorstore.docstore._dict.values())\n",
    "random.seed(788)\n",
    "selected_docs = random.sample(documents, 80)\n"
   ]
  },
  {
   "cell_type": "code",
   "execution_count": 41,
   "id": "9166b15b",
   "metadata": {},
   "outputs": [],
   "source": [
    "llm = ChatOpenAI(model=\"gpt-3.5-turbo-16k\", temperature=0.7)\n",
    "parser = JsonOutputParser()"
   ]
  },
  {
   "cell_type": "code",
   "execution_count": 42,
   "id": "6d02ca48",
   "metadata": {},
   "outputs": [],
   "source": [
    "# — after sampling selected_docs —\n",
    "\n",
    "prompt = PromptTemplate.from_template(\n",
    "    \"\"\"\n",
    "You are an expert in generating high-quality, diverse basketball-related questions.\n",
    "\n",
    "This passage is about the player **{player}**:\n",
    "{document}\n",
    "\n",
    "Generate **ONE** clear and relevant question that includes the player’s name \"{player}\". Your question should be based on the passage, and must fall into one of the following types:\n",
    "\n",
    "1. **Simple factual** — e.g., biographical facts, team history, awards.\n",
    "2. **Statistical** — must include the **year** when referencing any stats.\n",
    "3. **Reasoning-based** — requires connecting multiple facts or drawing a conclusion.\n",
    "4. **Comparative** — comparing the player with teammates, other seasons, or opponents.\n",
    "5. **Event-specific** — referencing a game, season, or milestone moment.\n",
    "\n",
    "**Important:**\n",
    "- If you ask a question about statistics, explicitly include the year.\n",
    "- The question must be **answerable from the document**.\n",
    "- Make sure the question is natural, specific, and unambiguous.\n",
    "\n",
    "Respond ONLY in JSON format:\n",
    "{{\n",
    "  \"question\": \"...\",\n",
    "  \"answer\": \"...\"\n",
    "}}\n",
    "    \"\"\"\n",
    ")\n",
    "qa_chain = (\n",
    "    {\"document\": RunnablePassthrough(), \"player\": RunnablePassthrough()}\n",
    "    | prompt\n",
    "    | llm\n",
    "    | parser\n",
    ")\n",
    "\n",
    "results = []\n",
    "for doc in selected_docs:\n",
    "    qa = qa_chain.invoke({\n",
    "        \"document\": doc.page_content,\n",
    "        \"player\": doc.metadata[\"player\"]\n",
    "    })\n",
    "    # filter out any that failed to include the name\n",
    "    if doc.metadata[\"player\"].lower() in qa[\"question\"].lower():\n",
    "        qa[\"context\"] = doc.page_content\n",
    "        results.append(qa)\n"
   ]
  },
  {
   "cell_type": "code",
   "execution_count": 43,
   "id": "39127891",
   "metadata": {},
   "outputs": [],
   "source": [
    "with open(\"nba_generated_qa.json\", \"w\", encoding=\"utf-8\") as f:\n",
    "    json.dump(results, f, ensure_ascii=False, indent=2)\n",
    "\n",
    "# 6.2 CSV\n",
    "df = pd.DataFrame(results)\n",
    "df.to_csv(\"nba_generated_qa.csv\", index=False, encoding=\"utf-8-sig\")\n"
   ]
  }
 ],
 "metadata": {
  "kernelspec": {
   "display_name": "base",
   "language": "python",
   "name": "python3"
  },
  "language_info": {
   "codemirror_mode": {
    "name": "ipython",
    "version": 3
   },
   "file_extension": ".py",
   "mimetype": "text/x-python",
   "name": "python",
   "nbconvert_exporter": "python",
   "pygments_lexer": "ipython3",
   "version": "3.11.7"
  }
 },
 "nbformat": 4,
 "nbformat_minor": 5
}
