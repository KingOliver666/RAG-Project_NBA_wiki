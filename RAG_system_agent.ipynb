{
 "cells": [
  {
   "cell_type": "code",
   "execution_count": 85,
   "id": "008f47c7",
   "metadata": {},
   "outputs": [],
   "source": [
    "import os\n",
    "os.environ['USER_AGENT'] = 'RAGUserAgent'\n",
    "import openai\n",
    "from langchain_openai import ChatOpenAI, OpenAIEmbeddings\n",
    "from langchain import hub\n",
    "from langchain_core.output_parsers import StrOutputParser\n",
    "from langchain_core.runnables import RunnablePassthrough\n",
    "import chromadb\n",
    "from langchain_community.vectorstores import Chroma\n",
    "from langchain_core.runnables import RunnableParallel\n",
    "from dotenv import load_dotenv, find_dotenv\n",
    "from langchain_core.prompts import PromptTemplate\n",
    "from PyPDF2 import PdfReader\n",
    "from langchain.text_splitter import RecursiveCharacterTextSplitter\n",
    "from langchain.docstore.document import Document\n",
    "from langchain_community.retrievers import BM25Retriever\n",
    "from langchain.retrievers import EnsembleRetriever\n",
    "from langchain_community.vectorstores import FAISS\n",
    "from langchain_community.tools.tavily_search import TavilySearchResults\n",
    "from langchain.tools.retriever import create_retriever_tool\n",
    "from typing import Annotated, Literal, Sequence, TypedDict\n",
    "from langchain_core.messages import BaseMessage\n",
    "from langgraph.graph.message import add_messages\n",
    "from langchain_core.messages import HumanMessage\n",
    "from langchain_core.pydantic_v1 import BaseModel, Field\n",
    "from langgraph.prebuilt import tools_condition\n",
    "from langgraph.graph import END, StateGraph\n",
    "from langgraph.prebuilt import ToolNode\n",
    "from IPython.display import Image, display\n",
    "import pprint\n",
    "from langchain_core.output_parsers import StrOutputParser\n",
    "from typing import List, Optional, Dict"
   ]
  },
  {
   "cell_type": "code",
   "execution_count": 30,
   "id": "793e1fe2",
   "metadata": {},
   "outputs": [],
   "source": [
    "str_output_parser = StrOutputParser()"
   ]
  },
  {
   "cell_type": "code",
   "execution_count": 19,
   "id": "bfd0123d",
   "metadata": {},
   "outputs": [],
   "source": [
    "_ = load_dotenv(dotenv_path='env.txt')\n",
    "os.environ['OPENAI_API_KEY'] = os.getenv('OPENAI_API_KEY')\n",
    "openai.api_key = os.environ['OPENAI_API_KEY']\n",
    "llm = ChatOpenAI(model_name=\"gpt-4o-mini\", temperature=0, streaming=True)\n",
    "agent_llm = ChatOpenAI(model_name=\"gpt-4o-mini\", temperature=0, streaming=True)\n",
    "embedding_function = OpenAIEmbeddings()"
   ]
  },
  {
   "cell_type": "code",
   "execution_count": 20,
   "id": "e50f83c5",
   "metadata": {},
   "outputs": [],
   "source": [
    "vectorstore = FAISS.load_local(\"nba_vector_db_semantic\", embeddings=embedding_function, allow_dangerous_deserialization=True)\n",
    "documents = vectorstore.docstore._dict.values()\n",
    "dense_retriever = vectorstore.as_retriever(search_kwargs={\"k\": 10})\n",
    "sparse_retriever = BM25Retriever.from_documents(list(documents), k=10)\n",
    "ensemble_retriever = EnsembleRetriever(retrievers=[dense_retriever, sparse_retriever], weights=[0.5, 0.5], c=0)"
   ]
  },
  {
   "cell_type": "code",
   "execution_count": 21,
   "id": "d24706da",
   "metadata": {},
   "outputs": [
    {
     "name": "stderr",
     "output_type": "stream",
     "text": [
      "'export' �����ڲ����ⲿ���Ҳ���ǿ����еĳ���\n",
      "���������ļ���\n"
     ]
    }
   ],
   "source": [
    "_ = load_dotenv(dotenv_path='env.txt')\n",
    "os.environ['TAVILY_API_KEY'] = os.getenv('TAVILY_API_KEY')\n",
    "!export TAVILY_API_KEY=os.environ['TAVILY_API_KEY']\n",
    "web_search = TavilySearchResults(max_results=4)\n",
    "web_search_name = web_search.name"
   ]
  },
  {
   "cell_type": "code",
   "execution_count": 44,
   "id": "e790d2e9",
   "metadata": {},
   "outputs": [],
   "source": [
    "retriever_tool = create_retriever_tool(\n",
    "    ensemble_retriever,\n",
    "    \"retrieve_NBA_Player_question_answers\",\n",
    "    \"Extensive information about NBA players.\",\n",
    ")\n",
    "retriever_tool_name = retriever_tool.name"
   ]
  },
  {
   "cell_type": "code",
   "execution_count": 45,
   "id": "3dac0471",
   "metadata": {},
   "outputs": [],
   "source": [
    "tools = [web_search, retriever_tool]"
   ]
  },
  {
   "cell_type": "code",
   "execution_count": 76,
   "id": "6359f68b",
   "metadata": {},
   "outputs": [],
   "source": [
    "class AgentState(TypedDict):\n",
    "    messages: Annotated[Sequence[BaseMessage], add_messages]\n",
    "    loop_count: int  # NEW: add a loop counter"
   ]
  },
  {
   "cell_type": "code",
   "execution_count": 134,
   "id": "deb698b5",
   "metadata": {},
   "outputs": [],
   "source": [
    "generation_prompt = PromptTemplate.from_template(\n",
    "    \"\"\"You are an assistant for question-answering tasks. \n",
    "    Use the following pieces of retrieved context to answer \n",
    "    the question. If you don't know the answer, just say \n",
    "    that you don't know. Provide a thorough description to \n",
    "    fully answer the question, utilizing any relevant \n",
    "    information you find. Finally, translate the answer into Chiniese and only return the Chinese translation.\n",
    "    \n",
    "    Question: {question} \n",
    "    Context: {context} \n",
    "    \n",
    "    Answer:\"\"\"\n",
    ")"
   ]
  },
  {
   "cell_type": "code",
   "execution_count": 135,
   "id": "8a6b5007",
   "metadata": {},
   "outputs": [],
   "source": [
    "def score_documents(state) -> Literal[\"generate\", \"improve\"]:\n",
    "\n",
    "    print(\"---CHECK RELEVANCE---\")\n",
    "\n",
    "    # Data model - returns a binary score for the relevance check\n",
    "    class scoring(BaseModel):\n",
    "        binary_score: str = Field(description=\"Relevance score 'yes' or 'no'\")\n",
    "\n",
    "    # LLM with tool and validation\n",
    "    llm_with_tool = llm.with_structured_output(scoring)\n",
    "\n",
    "    # Prompt\n",
    "    prompt = PromptTemplate(\n",
    "        template=\"\"\"\n",
    "        You are assessing relevance of a retrieved document to a user question with a binary grade. \\n \n",
    "        \n",
    "        Here is the retrieved document: \\n\\n {context} \\n\\n\n",
    "        Here is the user question: {question} \\n\n",
    "        \n",
    "        If the document contains keyword(s) or semantic meaning related to the user question, grade it as relevant. \\n\n",
    "        Give a binary score 'yes' or 'no' score to indicate whether the document is relevant to the question.\n",
    "        \"\"\",\n",
    "        input_variables=[\"context\", \"question\"],\n",
    "    )\n",
    "\n",
    "    # Chain\n",
    "    chain = prompt | llm_with_tool\n",
    "\n",
    "    messages = state[\"messages\"]\n",
    "    last_message = messages[-1]\n",
    "    question = messages[0].content\n",
    "    docs = last_message.content\n",
    "\n",
    "    scored_result = chain.invoke({\"question\": question, \"context\": docs})\n",
    "    score = scored_result.binary_score\n",
    "\n",
    "    if score == \"yes\":\n",
    "        print(\"---DECISION: DOCS RELEVANT---\")\n",
    "        return \"generate\"\n",
    "\n",
    "    else:\n",
    "        print(\"---DECISION: DOCS NOT RELEVANT---\")\n",
    "        print(score)\n",
    "        return \"improve\""
   ]
  },
  {
   "cell_type": "code",
   "execution_count": 136,
   "id": "4092a67e",
   "metadata": {},
   "outputs": [],
   "source": [
    "def agent(state):\n",
    "    print(\"---CALL AGENT---\")\n",
    "    messages = state[\"messages\"]\n",
    "    llm = agent_llm.bind_tools(tools)\n",
    "    response = llm.invoke(messages)\n",
    "    return {\"messages\": [response]} # Return list, will get added to existing list"
   ]
  },
  {
   "cell_type": "code",
   "execution_count": 137,
   "id": "319d3969",
   "metadata": {},
   "outputs": [],
   "source": [
    "def improve(state):\n",
    "    print(\"---TRANSFORM QUERY---\")\n",
    "    messages = state[\"messages\"]\n",
    "    question = messages[0].content\n",
    "\n",
    "    msg = [\n",
    "        HumanMessage(content=f\"\"\"\\n \n",
    "            Look at the input and try to reason about the underlying semantic intent / meaning. \\n \n",
    "            Here is the initial question:\n",
    "            \\n ------- \\n\n",
    "            {question} \n",
    "            \\n ------- \\n\n",
    "            Formulate an improved question: \n",
    "            \"\"\",\n",
    "        )\n",
    "    ]\n",
    "\n",
    "    response = llm.invoke(msg)\n",
    "\n",
    "    return {\n",
    "        \"messages\": [response],\n",
    "        \"loop_count\": state.get(\"loop_count\", 0) + 1  # increment loop counter\n",
    "    }"
   ]
  },
  {
   "cell_type": "code",
   "execution_count": 138,
   "id": "fd230cbc",
   "metadata": {},
   "outputs": [],
   "source": [
    "def generate(state):\n",
    "    print(\"---GENERATE---\")\n",
    "    messages = state[\"messages\"]\n",
    "    question = messages[0].content\n",
    "    last_message = messages[-1]\n",
    "\n",
    "    question = messages[0].content\n",
    "    docs = last_message.content\n",
    "\n",
    "    # Chain\n",
    "    rag_chain = generation_prompt | llm | str_output_parser\n",
    "\n",
    "    # Run\n",
    "    response = rag_chain.invoke({\"context\": docs, \"question\": question})\n",
    "    return {\"messages\": [response]}"
   ]
  },
  {
   "cell_type": "code",
   "execution_count": 139,
   "id": "62c65e70",
   "metadata": {},
   "outputs": [],
   "source": [
    "def tools_condition(state: AgentState) -> str:\n",
    "    loop_count = state.get(\"loop_count\", 0)\n",
    "\n",
    "    # Safety stop condition\n",
    "    if loop_count >= 10:\n",
    "        print(f\"---LOOP COUNT {loop_count} REACHED, EXITING---\")\n",
    "        return END\n",
    "\n",
    "    # Default behavior: go retrieve\n",
    "    return \"tools\"\n"
   ]
  },
  {
   "cell_type": "code",
   "execution_count": 140,
   "id": "73d38ee8",
   "metadata": {},
   "outputs": [],
   "source": [
    "workflow = StateGraph(AgentState)\n",
    "\n",
    "# Define the nodes we will cycle between\n",
    "workflow.add_node(\"agent\", agent)  # agent\n",
    "retrieve = ToolNode(tools)\n",
    "workflow.add_node(\"retrieve\", retrieve)  # retrieval from web and or retriever\n",
    "workflow.add_node(\"improve\", improve)  # Improving the question for better retrieval\n",
    "workflow.add_node(\"generate\", generate)  # Generating a response after we know the documents are relevant\n",
    "\n",
    "# Call agent node to decide to retrieve or not\n",
    "workflow.set_entry_point(\"agent\")\n",
    "\n",
    "# Decide whether to retrieve (assess agent decision)\n",
    "workflow.add_conditional_edges(\"agent\", tools_condition, \n",
    "    # Translate the condition outputs to nodes in our graph\n",
    "    {\n",
    "        \"tools\": \"retrieve\",\n",
    "        END: END,\n",
    "    },\n",
    ")\n",
    "\n",
    "# Edges taken after the `action` node is called (assess agent decision)\n",
    "workflow.add_conditional_edges(\"retrieve\", score_documents)\n",
    "workflow.add_edge(\"generate\", END)\n",
    "workflow.add_edge(\"improve\", \"agent\")\n",
    "\n",
    "# Compile\n",
    "graph = workflow.compile()"
   ]
  },
  {
   "cell_type": "code",
   "execution_count": 141,
   "id": "3bd36da4",
   "metadata": {},
   "outputs": [
    {
     "data": {
      "image/png": "[encoded data removed]",
      "text/plain": [
       "<IPython.core.display.Image object>"
      ]
     },
     "metadata": {},
     "output_type": "display_data"
    }
   ],
   "source": [
    "try:\n",
    "    display(Image(graph.get_graph(xray=True).draw_mermaid_png()))\n",
    "except:\n",
    "    pass"
   ]
  },
  {
   "cell_type": "code",
   "execution_count": 132,
   "id": "4917710d",
   "metadata": {},
   "outputs": [
    {
     "name": "stdout",
     "output_type": "stream",
     "text": [
      "---CALL AGENT---\n",
      "\"Output from node 'agent':\"\n",
      "'---'\n",
      "{ 'messages': [ AIMessage(content='', additional_kwargs={'tool_calls': [{'index': 0, 'id': 'call_kngOZHLzZ6XmsHt4kFxgG4MR', 'function': {'arguments': '{\"query\":\"2022 NBA Finals MVP\"}', 'name': 'retrieve_NBA_Player_question_answers'}, 'type': 'function'}]}, response_metadata={'finish_reason': 'tool_calls', 'model_name': 'gpt-4o-mini-2024-07-18', 'system_fingerprint': 'fp_34a54ae93c'}, id='run--5a37aa95-916e-465f-9e00-cfef82798ef8-0', tool_calls=[{'name': 'retrieve_NBA_Player_question_answers', 'args': {'query': '2022 NBA Finals MVP'}, 'id': 'call_kngOZHLzZ6XmsHt4kFxgG4MR', 'type': 'tool_call'}])]}\n",
      "'\\n---\\n'\n",
      "---CHECK RELEVANCE---\n",
      "---DECISION: DOCS RELEVANT---\n",
      "\"Output from node 'retrieve':\"\n",
      "'---'\n",
      "{ 'messages': [ ToolMessage(content='He is a three-time NBA All-Star, a five-time NBA All-Defensive Team honoree, and he helped the Heat reach the NBA Finals in 2020 and 2023. He also won a gold medal with the 2020 and 2024 U.S.\\n\\n= Regular season = = Full Season (Regular Season + Playoffs) = . = = = 3× Greek League Champion: 2022, 2023, 2025 (with Olympiacos Piraeus) 3× Catalan League Champion: 2015, 2016, 2017 (with FC Barcelona) 2× Greek Cup Winner: 2022, 2023 (with Olympiacos Piraeus) Spanish Cup Winner: 2018 (with FC Barcelona) 2× Greek Super Cup Winner: 2022, 2024 (with Olympiacos Piraeus) Spanish Supercup Winner: 2015 (with FC Barcelona) = EuroLeague Final Runner-up: 2023 (with Olympiacos Piraeus) 3× EuroLeague Final Four Participation: 2022, 2023, 2025 (with Olympiacos Piraeus) Liga ACB Runner-up: 2016 (with FC Barcelona) 2× Greek Cup Runner-up: 2014 (with Aris), 2025 (with Olympiacos Piraeus) Spanish Supercup Runner-up: 2016 (with FC Barcelona) = European awards EuroLeague MVP: 2023 3× All-EuroLeague First Team: 2022, 2023, 2025 EuroLeague Playoffs MVP: 2025 Alphonso Ford EuroLeague Top Scorer Trophy: 2023 2× EuroLeague PIR Leader: 2023, 2025 EuroLeague Finals Top Scorer: 2023 4× EuroLeague MVP of the Month: February 2022, November 2022, February 2023, January 2025 14× EuroLeague MVP of the Round NBA Best Player in the World Outside of the NBA: 2024 BasketNews.com\\'s All-EuroLeague Best Player: 2024 3× Eurobasket.com\\'s All-Europe First Team: 2022, 2023, 2024 Domestic awards 3× Greek League MVP: 2015, 2022, 2023 2× Greek League Finals MVP: 2022, 2025 4× All-Greek League First Team: 2015, 2022, 2023, 2025 2× Greek League Regular Season Top Scorer: 2015, 2025 3× Greek League Full Season Top Scorer: 2015, 2022, 2025 4× Greek League Regular Season PIR Leader: 2015, 2022, 2023, 2025 4× Greek League Full Season RIP Leader: 2015, 2022, 2023, 2025 Greek League Full Season Rebounding Leader: 2015 Greek All-Star MVP: 2022 Greek All-Star: 2022 2× Greek League Most Popular Player: 2022, 2023 2× Greek League Most Improved Player: 2015, 2022 3× Greek League Best Young Player: 2013, 2014, 2015 Greek Cup Finals MVP: 2023 Greek Cup Finals Top Scorer: 2025 Greek Super Cup Finals MVP: 2024 2× Greek Super Cup Finals Top Scorer: 2022, 2024 10× Greek League MVP of the Week 2× Greek Youth All-Star Game: 2013, 2014 All-Liga ACB Youth Team: 2017 Panhellenic Youth Championship MVP: 2011 Panhellenic Youth Championship Top Scorer: 2011 All-Panhellenic Youth Championship Team: 2011 2× Best Young Basketball Player of Bulgaria: 2013–14, 2014–15 Second place in the Viasport.bg \"Best Young Sportsperson of Bulgaria\" rankings: 2014 Bulgarian Sportsperson of the Year: 2022, 2023 Club team awards He holds the record for the most PIR in the history of Olympiacos Piraeus in one game in the EuroLeague with 52 PIR. He holds the record for the most points in the history of Olympiacos Piraeus in one game in the EuroLeague with 45 points. Bulgarian national team EuroBasket rebounding leader: 2022 All-U20 EuroBasket Team: 2014 U20 EuroBasket rebounding leader: 2014 U20 EuroBasket Top Scorer: 2014 U16 EuroBasket Top Scorer: 2011 U18 EuroBasket Top Scorer: 2013 Vezenkov is the son of Yanka Vezenkova (née Gerginova) and Sashko \"Sasho\" Vezenkov, who has served as both head coach and director of sports of Lukoil Academic. He is also a former international basketball player, who played at EuroBasket 1985, EuroBasket 1989, and EuroBasket 1991.\\n\\nMilwaukee won the game, but Antetokounmpo was also out for Game 5, when the Bucks were eliminated. On September 18, 2020, Antetokounmpo won his second consecutive Most Valuable Player award. In doing so, he joined Hakeem Olajuwon and Michael Jordan as the only players to win MVP and NBA Defensive Player of the Year awards in the same season. NBA championship and Finals MVP (2020–2021) On December 15, 2020, Antetokounmpo re-signed with the Bucks, coming to terms on a 5-year, $228 million extension, the largest in league history. At the 2021 All-Star Game, he played on the team captained by James and scored 35 points on a perfect 16-of-16 shooting from the field to lead the team to a 170–150 win and became the first non-American to win the All-Star MVP. The Bucks finished the 2020–21 season with a 46–26 record, clinching the third seed in the Eastern Conference.\\n\\nJameel Marcus Warney (born January 31, 1994) is an American professional basketball player for the Seoul SK Knights of the Korean Basketball League (KBL). He played college basketball for the Stony Brook Seawolves, leading the team to its first ever appearance in the NCAA Tournament and graduating as the school\\'s all-time leader in several career categories. After going undrafted, Warney became the first Stony Brook player to reach the NBA when he made his debut with the Dallas Mavericks on March 11, 2018. Warney continued to play in the G League and was traded to the Westchester Knicks in 2019. Warney moved his career overseas and signed with the Seoul SK Knights of the Korean Basketball League before the 2019–20 season. He was named the KBL\\'s Foreign MVP in his first season, and won MVP again in 2022 and 2023. Warney led the Knights to a regular season title and KBL Finals championship in 2022. Jameel Warney was born in New Brunswick, New Jersey to Denise and James Warney.\\n\\n= Curry and his wife endorsed Joe Biden for President of the United States during the 2020 Democratic National Convention. In December 2021, Curry voiced his support for the For the People Act, an election reform bill aimed at expanding voting rights. In 2023, Curry opposed the development of multi-family housing in the wealthy enclave of Atherton, California, where he and his family live, citing safety and privacy for themselves and their children as the development would have been directly behind his home. Curry endorsed Kamala Harris, the Democratic nominee and an avid Warriors fan, for the 2024 United States presidential election. NBA 4× NBA champion: 2015, 2017, 2018, 2022 NBA Finals MVP: 2022 2× NBA Most Valuable Player: 2015, 2016 The only unanimous MVP selection in league history (2016) 11× NBA All-Star: 2014, 2015, 2016, 2017, 2018, 2019, 2021, 2022, 2023, 2024, 2025 2× NBA All-Star Game MVP: 2022, 2025 11× All-NBA Team selection: 4× First team: 2015, 2016, 2019, 2021 5× Second team: 2014, 2017, 2022, 2023, 2025 2× Third team: 2018, 2024 NBA All-Rookie First Team: 2010 NBA Western Conference finals MVP: 2022 NBA Clutch Player of the Year: 2024 NBA Teammate of the Year: 2025 NBA Sportsmanship Award: 2011 2× NBA Three-Point Contest champion: 2015, 2021 NBA Skills Challenge champion: 2011 2× NBA scoring champion: 2016, 2021 NBA steals leader: 2016 8× NBA three-point scoring leader: 2013, 2014, 2015, 2016, 2017, 2021, 2022, 2024 5× NBA free-throw percentage leader: 2011, 2015, 2016, 2018, 2025 50–40–90 club: 2016 The only player in league history to achieve this feat while averaging over 30 PPG Kareem Abdul-Jabbar Social Justice Champion: 2023 J.\\n\\nA two-time Slam Dunk Contest champion, he was named an NBA All-Star with the Chicago Bulls in 2021 and 2022. He also won a gold medal on the 2020 U.S.\\n\\nTeam USA would go on to win the gold medal in a rematch against France. = Regular season Playoffs = = Became 1 of 3 players to score 60+ points without committing a turnover Led entire NBA in plus-minus in 2022 Led entire NBA in total points in 2023 Second most points in 2020s decade Third most wins in 2020s decade = Most points in a game 7 with 51 Most assists in a Finals debut with 13 Most playoff points by a player before turning 27 Second most playoff rebounds by a player before turning 27 only behind Bill Russell One of 6 players to lead a champion in total points, rebounds, and assists in their playoff run alongside Nikola Jokić, Hakeem Olajuwon, Tim Duncan, LeBron James, and Larry Bird Tatum is the youngest and shortest player to accomplish this One of two players to lead both teams in a playoff series in total points, rebounds, assists, steals, and blocks alongside LeBron James Tied with LeBron James (2018) for most 30-point, 10-rebound and 5-assist games in a single playoff run with 7 such games in 2023. One of 6 players to lead team in points, rebounds, and assists in a finals series alongside Luka Dončić, Magic Johnson, Tim Duncan, LeBron James, and Larry Bird Recorded two 50+ point playoff games.\\n\\nLeBron Raymone James Sr. ( lə-BRON; born December 30, 1984) is an American professional basketball player for the Los Angeles Lakers of the National Basketball Association (NBA). Nicknamed \"King James\", he is the NBA\\'s all-time leading scorer and has won four NBA championships from 10 NBA Finals appearances, having made eight consecutive appearances between 2011 and 2018. He also won the inaugural NBA Cup in 2023 with the Lakers and has won three Olympic gold medals as a member of the U.S. national team. In addition to ranking fourth in NBA career assists and sixth in NBA career steals, James holds several individual honors, including four NBA MVP awards, four Finals MVP awards, the Rookie of the Year award, three All-Star Game MVP awards, the inaugural NBA Cup MVP, and the Olympics MVP in the 2024 Summer Olympics. A record 21-time All-Star and 21-time All-NBA selection (including a record 13 First Team selections), he has also made six All-Defensive Teams. The oldest active player in the NBA, he is tied with Vince Carter for the most seasons played and holds the record for the most minutes played in league history. Born and raised in Akron, Ohio, James gained national attention at St. Vincent–St. Mary High School and was heavily touted as a future NBA superstar for his all-around scoring, passing, athleticism and playmaking abilities. A prep-to-pro, James was selected by the Cleveland Cavaliers with the first overall pick of the 2003 NBA draft. He won Rookie of the Year and quickly established himself as one of the league\\'s premier players, leading Cleveland to its first NBA Finals appearance in 2007 and winning the scoring title in 2008. After winning back-to-back MVPs in 2009 and 2010, he left the Cavaliers and joined the Miami Heat as a free agent in 2010, a controversial move announced in the nationally televised special titled The Decision. With the Heat, James won his first two NBA championships in 2012 and 2013, earning MVP and Finals MVP honors both years. After four seasons in Miami, he returned to Cleveland in 2014, leading the Cavaliers to their first-ever championship in 2016 by overcoming a 3–1 deficit against the Golden State Warriors and ending the Cleveland sports curse. He signed with the Lakers in 2018, winning another title in 2020 and becoming the first player to win Finals MVP with three different teams. In 2023, he surpassed Kareem Abdul-Jabbar to become the NBA\\'s all-time leading scorer, and in 2024, he and his son Bronny became the first father-son teammates in league history. In 2025, James was inducted into the Naismith Memorial Basketball Hall of Fame as a member of the 2008 U.S. Olympic team (also known as the \"Redeem Team\"). Off the court, James has earned further wealth and fame from numerous endorsement contracts. He is the first player in NBA history to accumulate $1 billion in earnings as an active player. James has been featured in books, documentaries (including winning three Sports Emmy Awards as an executive producer), and television commercials. He was among Time\\'s 100 most influential people in the world in 2005, 2013, 2017, and 2019 — the most selections for a professional athlete. James has won 20 ESPY Awards, hosted Saturday Night Live, and starred in the sports film Space Jam: A New Legacy (2021). He has been a part-owner of Liverpool F.C.\\n\\nOn February 28, VanVleet was named one of the ten semi-finalists for the Naismith Award.\\n\\nDunstan\\'s Episcopal. In college, Duncan played for the Wake Forest Demon Deacons, and in his senior year, he received the John Wooden Award and was named the Naismith College Player of the Year and the USBWA College Player of the Year. After graduating from college, Duncan was the NBA Rookie of the Year after being selected by San Antonio with the first overall pick in the 1997 NBA draft. In his second season, he became the third player (alongside Magic Johnson and Kareem Abdul-Jabbar) to win NBA Finals MVP in his first two seasons after being drafted, guiding the Spurs to the 1999 NBA title. Known as a strong post defender, Duncan was selected to one of the two All-Defensive teams each of the first 13 seasons of his career, an NBA record. As part of the Spurs\\' Big Three with guards Tony Parker and Manu Ginóbili, Duncan won four additional NBA championships and collected three Finals MVP trophies. He primarily played the power forward position and also played center throughout his career. He is a five-time NBA champion, a two-time NBA MVP, a three-time NBA Finals MVP, a 15-time NBA All-Star, and the only player to be selected to both the All-NBA and All-Defensive Teams for 13 consecutive seasons. Duncan was born on April 25, 1976, and raised in Saint Croix, U.S.\\n\\nIt was his fourth career All-Star selection and first since 2018. Green missed 31 consecutive games from January to March with a back injury. Up to that point, he was mentioned as one of the favorites to win the NBA Defensive Player of the Year Award. Despite playing in just 46 games, Green was selected to his seventh NBA All-Defensive Team, earning second-team honors. The Warriors advanced to the 2022 NBA Finals, and he won his fourth NBA championship after they defeated the Celtics in six games. In Game 6 of the Finals, Green posted a near triple-double with 12 points, 12 rebounds, 8 assists, 2 steals and 2 blocks in a 103–90 closeout win. During a team practice with the Warriors on October 5, 2022, Green and teammate Jordan Poole got into an altercation, resulting in Green striking Poole in the face. TMZ published a leaked video on October 7, showing the punch but not what led to the incident. On October 9, Green publicly apologized for the incident and announced that he would spend a few days away from the team.\\n\\nLeonard played two seasons of college basketball for the San Diego State Aztecs and was named a consensus second-team All-American as a sophomore. He opted to forgo his final two seasons of college eligibility to enter the 2011 NBA draft. He was selected by the Indiana Pacers with the 15th overall pick before being traded to the San Antonio Spurs on draft night. With the Spurs, Leonard won an NBA championship in 2014, when he was named the Finals Most Valuable Player. After seven seasons with the Spurs, Leonard was traded to the Toronto Raptors in 2018. In 2019, he led the Raptors to their first NBA championship and won his second Finals MVP award (one of only three players to win Finals MVP with multiple teams, along with Kareem Abdul-Jabbar and LeBron James). He subsequently moved to his hometown of Los Angeles and signed with the Clippers as a free agent in July 2019. Leonard attended Canyon Springs High School in Moreno Valley, California, before transferring to Martin Luther King High School for his junior year. In his senior year there, he and Tony Snell led the King High Wolves to a 30–3 record. Leonard averaged 22.6 points, 13.1 rebounds, 3.9 assists, and 3 blocks per game that year and was named California Mr. Basketball.\\n\\nIn 2021, he was selected to the NBA 75th Anniversary Team.\\n\\nHe has been named to 11 All-NBA teams (including six First Teams) and selected 15 times as an NBA All-Star. In 2021, Durant was named to the NBA 75th Anniversary Team. He ranks eighth among NBA career scoring leaders. Durant was heavily recruited in high school, widely regarded as the second-best player his senior year. He played one season of college basketball for the Texas Longhorns, during which he won numerous year-end awards and became the first freshman to be named Naismith College Player of the Year. Durant was selected as the second overall pick by the Seattle SuperSonics in the 2007 NBA draft. He played nine seasons with the franchise (which became the Oklahoma City Thunder in 2008), leading them to a Finals appearance in 2012 and winning the MVP award for the 2013–2014 season. He later signed with the Golden State Warriors in 2016, who won a record 73 regular season games the previous year. Durant won consecutive NBA championships and Finals MVPs in 2017 and 2018. After sustaining an Achilles injury in the 2019 NBA Finals, he joined the Brooklyn Nets as a free agent that summer. Following disagreements with the Nets\\' front office, he requested a trade during the 2022 offseason and was traded to the Suns the following year. As a member of the US national team, Durant has won four gold medals in the Olympics (2012, 2016, 2020 and 2024), and is the leading scorer in Team USA\\'s Olympic basketball history. Durant is the only player in basketball history with MVPs in the NBA, Olympics and World Cup. Off the court, Durant is one of the highest-earning basketball players in the world, due in part to endorsement deals with companies such as Foot Locker and Nike. He has developed a reputation for philanthropy and regularly leads the league in All-Star votes and jersey sales. In 2018, Durant was among Time\\'s 100 most influential people in the world.\\n\\nBasketball recognition and was runner-up for Mr.\\n\\nDeclaring for the 2016 NBA draft after his freshman season, Brown was selected by the Celtics with the third overall pick. As a professional, he has split his time between shooting guard and small forward. Brown is a four-time NBA All-Star and reached the Eastern Conference finals six times with Boston. He helped the Celtics reach the 2022 and 2024 NBA Finals, winning a championship and Finals MVP award in the latter. Brown attended Wheeler High School in his hometown of Marietta, Georgia. As a junior, Brown averaged 24.1 points, 8.2 rebounds, 4.1 assists, and 2.0 steals per game while leading the Wildcats to a 29–5 overall record. As a senior, Brown helped lead his team to victory in the Georgia High School Association Class 6A State Championship. With 0.6 seconds remaining, Brown hit two free throws to give Wheeler a 59–58 win. More highlights of Brown\\'s senior season included 28 points and 11 rebounds in a 76–70 victory over Harry Giles and Wesleyan Christian Academy; a 24-point and eight rebound performance in a 61–40 victory over Malik Monk and Bentonville High School; 25 points, 12 rebounds, and six assists in a 75–65 victory over Ben Simmons and Montverde Academy; and 29 points and 15 rebounds against Huntington Prep. As a senior, Brown averaged 28 points and 12 rebounds while leading Wheeler to a 30–3 overall record. Brown won a 2014 FIBA Americas Championship gold medal as part of the USA Basketball Men\\'s U18 National Team.\\n\\nIt was released on March 1, 2020. Šarić has stated that sharks are his favorite animal. Šarić has stated that he keeps in touch with former 76ers teammates Furkan Korkmaz and Timothé Luwawu-Cabarrot. = Regular season Playoffs = = Junior club honours Città di Roma Tournament (2010, 2011) EuroLeague Junior Tournament (2011) Senior club honours Croatian League Champion (2013) Croatian Cup Winner (2013) Adriatic League Champion (2014) Turkish Cup Winner (2015) Turkish President\\'s Cup Winner (2015) = Junior honours 2010 Albert Schweitzer Tournament: Burkhard Wildermuth-Award 2010 FIBA Europe Under-16 Championship: All-Tournament Team, MVP Città di Roma Tournament: All-Tournament Team, MVP (2010, 2011) 2011 EuroLeague Junior Tournament: All-Tournament Team, MVP 2012 FIBA Europe Under-18 Championship: All-Tournament Team, MVP 2013 FIBA Under-19 World Cup: All-Tournament Team Senior honours Croatian League Finals MVP (2013) Adriatic League: First Team, Season MVP, Final Four MVP (2014) Adriatic League Top Scorer (2014) Adriatic League Top Prospect (2014) FIBA European Young Player of the Year (2013, 2014) NBA Eastern Conference Rookie of the Month (February, March 2017) NBA All-Rookie First Team (2017) List of European basketball players in the United States Career statistics from NBA.com · Basketball Reference Dario Šarić at euroleague.net Dario Šarić at tblstat.net\\n\\n\\n\\nHe won an NBA championship with the Golden State Warriors in 2022. Toscano was born in East Oakland, California to an African-American father and Mexican-American mother; his maternal grandfather immigrated to the U.S.\\n\\nHe reached the NBA Finals in 2022 and 2024, winning his first title in the latter after playing 186 career playoff games without one, the second most all-time. A versatile big man, Al Horford is the only player in NBA history with 14,000 points, 8,000 rebounds, 3,000 assists, 1,300 blocks, and 900 three-point field goals made. He ranks 12th all-time in playoff blocked shots.', name='retrieve_NBA_Player_question_answers', id='eceb5808-0b12-47d7-a832-0555bcb7a9c5', tool_call_id='call_kngOZHLzZ6XmsHt4kFxgG4MR')]}\n",
      "'\\n---\\n'\n",
      "---GENERATE---\n",
      "\"Output from node 'generate':\"\n",
      "'---'\n",
      "{ 'messages': [ 'The NBA Finals MVP for the year 2022 was Stephen Curry. He '\n",
      "                'played a crucial role in leading the Golden State Warriors to '\n",
      "                'victory in the NBA Finals against the Boston Celtics. This '\n",
      "                \"marked Curry's first Finals MVP award, despite his previous \"\n",
      "                'successes, including multiple NBA championships and regular '\n",
      "                'season MVP awards. His performance throughout the Finals was '\n",
      "                'outstanding, showcasing his scoring ability, playmaking, and '\n",
      "                'leadership on the court.\\n'\n",
      "                '\\n'\n",
      "                'In the decisive Game 6 of the Finals, Curry scored 34 points, '\n",
      "                'helping the Warriors clinch the championship. His '\n",
      "                'contributions were pivotal in the series, and he was '\n",
      "                'recognized for his excellence with the Finals MVP award, '\n",
      "                'solidifying his legacy as one of the greatest players in NBA '\n",
      "                'history.\\n'\n",
      "                '\\n'\n",
      "                '**Translation in Chinese:**\\n'\n",
      "                '2022年的NBA总决赛最有价值球员（MVP）是斯蒂芬·库里。他在带领金州勇士队战胜波士顿凯尔特人队的NBA总决赛中发挥了关键作用。这是库里首次获得总决赛MVP奖，尽管他之前已经取得了多次NBA冠军和常规赛MVP奖。他在总决赛中的表现非常出色，展示了他的得分能力、组织进攻能力和场上的领导力。\\n'\n",
      "                '\\n'\n",
      "                '在总决赛的决定性第六场比赛中，库里得到了34分，帮助勇士队夺得冠军。他在整个系列赛中的贡献至关重要，因此获得了总决赛MVP奖，巩固了他作为NBA历史上最伟大球员之一的地位。']}\n",
      "'\\n---\\n'\n"
     ]
    }
   ],
   "source": [
    "import pprint\n",
    "inputs = {\n",
    "    \"messages\": [\n",
    "        (\"user\", \"Who is the Final MVP in year of 2022?\"),\n",
    "    ],\n",
    "    \"loop_count\": 0  # Must initialize this field\n",
    "}\n",
    "\n",
    "\n",
    "final_answer = ''\n",
    "for output in graph.stream(inputs, config={\"recursion_limit\": 50}):\n",
    "    for key, value in output.items():\n",
    "        pprint.pprint(f\"Output from node '{key}':\")\n",
    "        pprint.pprint(\"---\")\n",
    "        pprint.pprint(value, indent=2, width=80, depth=None)\n",
    "        final_answer = value\n",
    "    pprint.pprint(\"\\n---\\n\")\n",
    "\n",
    "\n"
   ]
  },
  {
   "cell_type": "code",
   "execution_count": 133,
   "id": "daaf2b66",
   "metadata": {},
   "outputs": [
    {
     "data": {
      "text/plain": [
       "\"The NBA Finals MVP for the year 2022 was Stephen Curry. He played a crucial role in leading the Golden State Warriors to victory in the NBA Finals against the Boston Celtics. This marked Curry's first Finals MVP award, despite his previous successes, including multiple NBA championships and regular season MVP awards. His performance throughout the Finals was outstanding, showcasing his scoring ability, playmaking, and leadership on the court.\\n\\nIn the decisive Game 6 of the Finals, Curry scored 34 points, helping the Warriors clinch the championship. His contributions were pivotal in the series, and he was recognized for his excellence with the Finals MVP award, solidifying his legacy as one of the greatest players in NBA history.\\n\\n**Translation in Chinese:**\\n2022年的NBA总决赛最有价值球员（MVP）是斯蒂芬·库里。他在带领金州勇士队战胜波士顿凯尔特人队的NBA总决赛中发挥了关键作用。这是库里首次获得总决赛MVP奖，尽管他之前已经取得了多次NBA冠军和常规赛MVP奖。他在总决赛中的表现非常出色，展示了他的得分能力、组织进攻能力和场上的领导力。\\n\\n在总决赛的决定性第六场比赛中，库里得到了34分，帮助勇士队夺得冠军。他在整个系列赛中的贡献至关重要，因此获得了总决赛MVP奖，巩固了他作为NBA历史上最伟大球员之一的地位。\""
      ]
     },
     "execution_count": 133,
     "metadata": {},
     "output_type": "execute_result"
    }
   ],
   "source": [
    "final_answer['messages'][0]"
   ]
  },
  {
   "cell_type": "code",
   "execution_count": null,
   "id": "00dfcf04",
   "metadata": {},
   "outputs": [
    {
     "name": "stdout",
     "output_type": "stream",
     "text": [
      "---CALL AGENT---\n",
      "---CHECK RELEVANCE---\n",
      "---DECISION: DOCS RELEVANT---\n",
      "---GENERATE---\n",
      "Final Answer: Michael Jordan has won more NBA championships than LeBron James. Michael Jordan secured a total of six NBA championships during his career, all with the Chicago Bulls, winning titles in the years 1991, 1992, 1993, 1996, 1997, and 1998. In contrast, LeBron James has won four NBA championships. He won his titles with three different teams: two with the Miami Heat in 2012 and 2013, one with the Cleveland Cavaliers in 2016, and one with the Los Angeles Lakers in 2020.\n",
      "\n",
      "While both players are often compared in discussions about the greatest basketball players of all time, Jordan's six championships give him an edge in that specific category. LeBron has made ten NBA Finals appearances, which is notable, but his championship count currently stands at four.\n"
     ]
    }
   ],
   "source": [
    "result = graph.invoke(inputs, config={\"recursion_limit\": 15})\n",
    "\n",
    "final_message = result[\"messages\"][-1]  # Last message from generate()\n",
    "print(\"Final Answer:\", final_message.content)\n"
   ]
  },
  {
   "cell_type": "code",
   "execution_count": 118,
   "id": "d2203a1d",
   "metadata": {},
   "outputs": [],
   "source": [
    "import gradio as gr"
   ]
  },
  {
   "cell_type": "code",
   "execution_count": 142,
   "id": "1d650fa9",
   "metadata": {},
   "outputs": [],
   "source": [
    "def process_question(question):\n",
    "    inputs = {\n",
    "        \"messages\": [(\"user\", question)],\n",
    "        \"loop_count\": 0  # Required to control LangGraph recursion\n",
    "    }\n",
    "\n",
    "    # Invoke the compiled LangGraph\n",
    "    result = graph.invoke(inputs, config={\"recursion_limit\": 15})\n",
    "\n",
    "    # Extract the final message from state\n",
    "    final_answer = \"\"\n",
    "    if \"messages\" in result and result[\"messages\"]:\n",
    "        final_answer = result[\"messages\"][-1].content\n",
    "    else:\n",
    "        final_answer = \"No answer generated.\"\n",
    "\n",
    "\n",
    "    return final_answer\n",
    "\n",
    "# ✅ Build the Gradio Interface\n",
    "demo = gr.Interface(\n",
    "    fn=process_question,\n",
    "    inputs=gr.Textbox(label=\"Enter your question\"),\n",
    "    outputs=[\n",
    "        gr.Textbox(label=\"Final Answer\")\n",
    "    ],\n",
    "    title=\"NBA Player Question Answering (RAG Agent)\",\n",
    "    description=\"Ask questions about NBA players. The agent will retrieve documents and generate a final answer.\"\n",
    ")"
   ]
  },
  {
   "cell_type": "code",
   "execution_count": 143,
   "id": "2a8646d5",
   "metadata": {},
   "outputs": [
    {
     "name": "stdout",
     "output_type": "stream",
     "text": [
      "* Running on local URL:  http://127.0.0.1:7862\n",
      "* To create a public link, set `share=True` in `launch()`.\n"
     ]
    },
    {
     "data": {
      "text/html": [
       "<div><iframe src=\"http://127.0.0.1:7862/\" width=\"100%\" height=\"500\" allow=\"autoplay; camera; microphone; clipboard-read; clipboard-write;\" frameborder=\"0\" allowfullscreen></iframe></div>"
      ],
      "text/plain": [
       "<IPython.core.display.HTML object>"
      ]
     },
     "metadata": {},
     "output_type": "display_data"
    },
    {
     "data": {
      "text/plain": []
     },
     "execution_count": 143,
     "metadata": {},
     "output_type": "execute_result"
    },
    {
     "name": "stdout",
     "output_type": "stream",
     "text": [
      "---CALL AGENT---\n",
      "---CHECK RELEVANCE---\n",
      "---DECISION: DOCS NOT RELEVANT---\n",
      "no\n",
      "---TRANSFORM QUERY---\n",
      "---CALL AGENT---\n",
      "---CHECK RELEVANCE---\n",
      "---DECISION: DOCS RELEVANT---\n",
      "---GENERATE---\n",
      "Created dataset file at: .gradio\\flagged\\dataset1.csv\n"
     ]
    }
   ],
   "source": [
    "demo.launch()"
   ]
  }
 ],
 "metadata": {
  "kernelspec": {
   "display_name": "base",
   "language": "python",
   "name": "python3"
  },
  "language_info": {
   "codemirror_mode": {
    "name": "ipython",
    "version": 3
   },
   "file_extension": ".py",
   "mimetype": "text/x-python",
   "name": "python",
   "nbconvert_exporter": "python",
   "pygments_lexer": "ipython3",
   "version": "3.11.7"
  }
 },
 "nbformat": 4,
 "nbformat_minor": 5
}
