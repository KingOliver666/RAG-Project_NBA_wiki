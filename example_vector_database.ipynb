{
 "cells": [
  {
   "cell_type": "code",
   "execution_count": 1,
   "id": "4fa40e9e",
   "metadata": {},
   "outputs": [],
   "source": [
    "import os\n",
    "from dotenv import load_dotenv\n",
    "\n",
    "load_dotenv()\n",
    "# Paste your OpenAI API key here (or load from .env if using dotenv)\n",
    "openai_api_key = os.getenv(\"OPENAI_API_KEY\")\n",
    "\n",
    "# ✅ Step 2: Import libraries\n",
    "from langchain.embeddings import OpenAIEmbeddings\n",
    "from langchain_community.vectorstores import FAISS"
   ]
  },
  {
   "cell_type": "code",
   "execution_count": 2,
   "id": "fd506fe6",
   "metadata": {},
   "outputs": [
    {
     "name": "stderr",
     "output_type": "stream",
     "text": [
      "C:\\Users\\16343\\AppData\\Local\\Temp\\ipykernel_37944\\3690945960.py:1: LangChainDeprecationWarning: The class `OpenAIEmbeddings` was deprecated in LangChain 0.0.9 and will be removed in 1.0. An updated version of the class exists in the :class:`~langchain-openai package and should be used instead. To use it run `pip install -U :class:`~langchain-openai` and import as `from :class:`~langchain_openai import OpenAIEmbeddings``.\n",
      "  embedding = OpenAIEmbeddings(openai_api_key=openai_api_key)\n"
     ]
    }
   ],
   "source": [
    "embedding = OpenAIEmbeddings(openai_api_key=openai_api_key)\n",
    "vectorstore = FAISS.load_local(\"nba_vector_db\", embeddings=embedding, allow_dangerous_deserialization=True)"
   ]
  },
  {
   "cell_type": "code",
   "execution_count": 3,
   "id": "4793fcb5",
   "metadata": {},
   "outputs": [
    {
     "name": "stdout",
     "output_type": "stream",
     "text": [
      "Player: LeBron James\n",
      "the Miami Heat as a free agent in 2010, a controversial move announced in the nationally televised special titled The Decision. With the Heat, James won his first two NBA championships in 2012 and 2013, earning MVP and Finals MVP honors both years. After four seasons in Miami, he returned to Cleveland in 2014, leading the Cavaliers to their first-ever championship in 2016 by overcoming a 3–1 deficit against the Golden State Warriors and ending the Cleveland sports curse. He signed with the Lakers in 2018, winning another title in 2020 and becoming the first player to win Finals MVP with three different teams. In 2023, he surpassed Kareem Abdul-Jabbar to become the NBA's all-time leading scorer, and in 2024, he and his son Bronny became the first father-son teammates in league history. In 2025, James was inducted into the Naismith Memorial Basketball Hall of Fame as a member of the 2008 U.S. Olympic team (also known as the \"Redeem Team\"). Off the court, James has earned further wealth and fame from numerous endorsement contracts. He is the first player in NBA history to accumulate $1 billion in earnings as an active player. James has been featured in books, documentaries (including winning three Sports Emmy Awards as an executive producer), and television commercials. He was among Time's 100 most influential people in the world in 2005, 2013, 2017, and 2019 — the most selections for a professional athlete. James has won 20 ESPY Awards, hosted Saturday Night Live, and starred in the sports film Space Jam: A New Legacy (2021). He has been a part-owner of Liverpool F.C. since 2011 and leads the LeBron James Family Foundation, which has opened an elementary school, housing complex, retail plaza, and medical center in Akron. LeBron Raymone James was born on December 30, 1984, in Akron, Ohio, to Gloria Marie James, who was only 16 at the time of his birth.: 22 His father, Anthony McClelland, has an extensive criminal record and was not involved in his life. When James was \n",
      "---\n",
      "\n",
      "Player: LeBron James\n",
      "LeBron Raymone James Sr. ( lə-BRON; born December 30, 1984) is an American professional basketball player for the Los Angeles Lakers of the National Basketball Association (NBA). Nicknamed \"King James\", he is the NBA's all-time leading scorer and has won four NBA championships from 10 NBA Finals appearances, having made eight consecutive appearances between 2011 and 2018. He also won the inaugural NBA Cup in 2023 with the Lakers and has won three Olympic gold medals as a member of the U.S. national team. In addition to ranking fourth in NBA career assists and sixth in NBA career steals, James holds several individual honors, including four NBA MVP awards, four Finals MVP awards, the Rookie of the Year award, three All-Star Game MVP awards, the inaugural NBA Cup MVP, and the Olympics MVP in the 2024 Summer Olympics. A record 21-time All-Star and 21-time All-NBA selection (including a record 13 First Team selections), he has also made six All-Defensive Teams. The oldest active player in the NBA, he is tied with Vince Carter for the most seasons played and holds the record for the most minutes played in league history. Born and raised in Akron, Ohio, James gained national attention at St. Vincent–St. Mary High School and was heavily touted as a future NBA superstar for his all-around scoring, passing, athleticism and playmaking abilities. A prep-to-pro, James was selected by the Cleveland Cavaliers with the first overall pick of the 2003 NBA draft. He won Rookie of the Year and quickly established himself as one of the league's premier players, leading Cleveland to its first NBA Finals appearance in 2007 and winning the scoring title in 2008. After winning back-to-back MVPs in 2009 and 2010, he left the Cavaliers and joined the Miami Heat as a free agent in 2010, a controversial move announced in the nationally televised special titled The Decision. With the Heat, James won his first two NBA championships in 2012 and 2013, earning MVP and Finals MVP honors both years. \n",
      "---\n",
      "\n",
      "Player: LeBron James\n",
      "found themselves matched up with his former team, the Miami Heat, and quickly took control of the series with a 2–0 lead. In Game 5, James had his best statistical performance of the Finals with 40 points, 13 rebounds, and seven assists in a memorable duel with Miami's Jimmy Butler, but Los Angeles was ultimately defeated in a three-point game. The Lakers eliminated the Heat in Game 6, which earned James, who averaged 29.8 points, 11.8 rebounds, and 8.5 assists per game during the series, his fourth NBA championship and fourth Finals MVP award. At 35 years and 287 days old, James became the second-oldest player in league history to win the award, and the only player in NBA history to win the award with three different franchises. James and teammate Danny Green also became the third and fourth players in NBA history to win at least one championship with three different teams each. 2020–2021: Back-to-back chase Following the championship, James would sign a two-year, $85.7 million extension that would keep him with the Lakers through the 2022–23 season. The 2020–2021 season, reduced to 72 games for each team and starting on December 22, 2020, due to the COVID-19 pandemic, began after the shortest offseason in NBA history with a 116–109 loss to the Los Angeles Clippers. On December 31, James became the first player in NBA history to score 10 points or more in 1,000 consecutive games in a 121–107 victory over the San Antonio Spurs. On February 18, 2021, James became the third player in NBA history with 35,000 career points, joining Hall of Famers Abdul-Jabbar and Karl Malone; aged 36 years and 50 days, he was the youngest player to reach the milestone. On March 20, James sprained his ankle against the Atlanta Hawks, but was able to hit a three-point shot afterwards to keep his 10-points streak alive before exiting the game. By March, the Lakers were No. 2, two games behind the Utah Jazz, but they went 14–16 without Davis and 6–10 without James, falling to No. 5. James \n",
      "---\n",
      "\n",
      "Player: Anthony Davis\n",
      "win over the Miami Heat for the franchise's 17th championship, tying them with Boston for the most in league history. Davis became the eighth player to achieve the basketball Triple Crown, and the first player to win an NCAA title, an Olympic gold medal, a FIBA World Cup, and an NBA title, Davis and James were the first teammates to be first team All-NBA since 2007. Injury-plagued seasons (2020–2022) On December 3, 2020, Davis re-signed with the Lakers on a five-year, $190 million contract that included an early termination option prior to the fifth season in 2024–25. For the 2020–21 season, he was sidelined for 30 games from February to April 2021, the longest absence of his career, due to right calf and heel issues. In the opening round of the playoffs, the Lakers were up 2–1 in the series against the Phoenix Suns when Davis suffered a strained left groin in Game 4. He was also sidelined in Game 5, when the Suns took a 3–2 lead. The Lakers were eliminated in six games, despite Davis playing only five minutes in the first quarter of a 113–100 closeout loss in Game 6. When James switched his jersey number to 6 at the beginning of the next season, Davis had the opportunity to wear No. 23 again, but chose to stick with his current number, citing his desire to have No. 3 retired by the Lakers. On December 17, Davis exited in the third quarter of a 110–92 loss to the Minnesota Timberwolves after suffering an MCL sprain in his left knee. He missed 17 games before returning in late January, and for the first time since 2013 was not selected for the 2022 NBA All-Star Game. On February 16, 2022, in a 106–101 win against the Utah Jazz, Davis injured his right ankle and missed 18 games. In the 40 games he played during the season, Davis averaged 23.2 points, 9.9 rebounds, 3.1 assists and 2.3 blocks in 35.1 minutes of per game, and the Lakers missed the playoffs. Return from injury and Western Conference Finals (2022–2023) On November 13, 2022, Davis scored 37 points and \n",
      "---\n",
      "\n",
      "Player: LeBron James\n",
      "ultimately finished the season 35–47, failing to make the playoffs despite an 18-game improvement over the previous year. 2004–2008: Rise to superstardom In the 2004–2005 season, James earned his first NBA All-Star Game selection, contributing 13 points, 8 rebounds, and 6 assists in a winning effort for the Eastern Conference. Around the league, teams took note of his rapid development, and Denver Nuggets coach George Karl told Sports Illustrated: \"It's weird talking about a 20-year-old kid being a great player, but he is a great player ... He's the exception to almost every rule.\" On March 20, James scored 56 points against the Toronto Raptors, setting Cleveland's new single-game points record. With final averages of 27.2 points, 7.4 rebounds, 7.2 assists, and 2.2 steals per game, he was named to his first All-NBA Team. Despite a 30–20 record to start the year, the Cavaliers again failed to make the playoffs, finishing the season 42–40. During the 2006 offseason, James signed a three-year, $60 million extension with a fourth year player option, aligning his potential free agency in the 2010 offseason with fellow draft class members Dwyane Wade and Chris Bosh. At the 2006 All-Star Game, James led the East to victory with 29 points and was named the NBA All-Star Game Most Valuable Player. Behind final season averages of 31.4 points, 7.0 rebounds, and 6.6 assists per game, he also finished second in overall NBA Most Valuable Player Award voting to Steve Nash. Under James's leadership, the Cavaliers qualified for the playoffs for the first time since 1998. In his postseason debut, James recorded a triple-double in a winning effort over the Washington Wizards. In Game 3 of the series, he made the first game-winning shot of his career, and made another in Game 5. Cleveland would go on to defeat the Wizards before being ousted by the Detroit Pistons in the second round. In the 2006–2007 season, James finished the regular season averaging 27.3 points, 6.7 rebounds, 6.0 \n",
      "---\n",
      "\n"
     ]
    }
   ],
   "source": [
    "query = \"When does Lebron James get his first NBA championship?\"\n",
    "results = vectorstore.similarity_search(query, k=5)\n",
    "\n",
    "for doc in results:\n",
    "    print(f\"Player: {doc.metadata['player']}\")\n",
    "    print(doc.page_content, \"\\n---\\n\")"
   ]
  }
 ],
 "metadata": {
  "kernelspec": {
   "display_name": "base",
   "language": "python",
   "name": "python3"
  },
  "language_info": {
   "codemirror_mode": {
    "name": "ipython",
    "version": 3
   },
   "file_extension": ".py",
   "mimetype": "text/x-python",
   "name": "python",
   "nbconvert_exporter": "python",
   "pygments_lexer": "ipython3",
   "version": "3.11.7"
  }
 },
 "nbformat": 4,
 "nbformat_minor": 5
}
