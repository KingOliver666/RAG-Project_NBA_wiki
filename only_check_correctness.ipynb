{
 "cells": [
  {
   "cell_type": "code",
   "execution_count": 1,
   "id": "c9133109",
   "metadata": {},
   "outputs": [],
   "source": [
    "import pandas as pd\n",
    "import numpy as np"
   ]
  },
  {
   "cell_type": "code",
   "execution_count": 7,
   "id": "5906ecb0",
   "metadata": {},
   "outputs": [],
   "source": [
    "df = pd.read_csv('evaluation_dense.csv')"
   ]
  },
  {
   "cell_type": "code",
   "execution_count": 10,
   "id": "a11010f3",
   "metadata": {},
   "outputs": [],
   "source": [
    "df_1 = df[['user_input', 'response', 'reference']]\n",
    "df_1.to_json('evaluation_dense_1.json', orient='records', indent=2)\n"
   ]
  },
  {
   "cell_type": "code",
   "execution_count": 11,
   "id": "c9366715",
   "metadata": {},
   "outputs": [],
   "source": [
    "df2 = pd.read_csv('evaluation_hybrid.csv')\n",
    "df_2 = df[['user_input', 'response', 'reference']]\n",
    "df_2.to_json('evaluation_hybrid_1.json', orient='records', indent=2)"
   ]
  }
 ],
 "metadata": {
  "kernelspec": {
   "display_name": "base",
   "language": "python",
   "name": "python3"
  },
  "language_info": {
   "codemirror_mode": {
    "name": "ipython",
    "version": 3
   },
   "file_extension": ".py",
   "mimetype": "text/x-python",
   "name": "python",
   "nbconvert_exporter": "python",
   "pygments_lexer": "ipython3",
   "version": "3.11.7"
  }
 },
 "nbformat": 4,
 "nbformat_minor": 5
}
