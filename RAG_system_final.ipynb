{
 "cells": [
  {
   "cell_type": "code",
   "execution_count": 2,
   "id": "9b36adf0",
   "metadata": {},
   "outputs": [
    {
     "name": "stderr",
     "output_type": "stream",
     "text": [
      "C:\\Users\\16343\\AppData\\Local\\Temp\\ipykernel_37488\\3650198341.py:18: LangChainDeprecationWarning: The class `OpenAIEmbeddings` was deprecated in LangChain 0.0.9 and will be removed in 1.0. An updated version of the class exists in the :class:`~langchain-openai package and should be used instead. To use it run `pip install -U :class:`~langchain-openai` and import as `from :class:`~langchain_openai import OpenAIEmbeddings``.\n",
      "  embedding = OpenAIEmbeddings(openai_api_key=openai.api_key)\n"
     ]
    }
   ],
   "source": [
    "import os\n",
    "from dotenv import load_dotenv\n",
    "# ✅ Step 1: Load environment variables\n",
    "load_dotenv()\n",
    "# Make sure to set your OpenAI API key in the .env file or directly here\n",
    "\n",
    "# ✅ Step 2: Import libraries\n",
    "from langchain.embeddings import OpenAIEmbeddings\n",
    "from langchain_openai import ChatOpenAI\n",
    "from langchain_community.vectorstores import FAISS\n",
    "from langchain import hub\n",
    "import openai\n",
    "from langchain_core.output_parsers import StrOutputParser\n",
    "from langchain_core.runnables import RunnablePassthrough\n",
    "\n",
    "\n",
    "openai.api_key = os.getenv(\"OPENAI_API_KEY\")  # Ensure you have set this in your .env file\n",
    "embedding = OpenAIEmbeddings(openai_api_key=openai.api_key)\n",
    "vectorstore = FAISS.load_local(\"nba_vector_db\", embeddings=embedding, allow_dangerous_deserialization=True)"
   ]
  },
  {
   "cell_type": "code",
   "execution_count": 3,
   "id": "834a306e",
   "metadata": {},
   "outputs": [
    {
     "name": "stderr",
     "output_type": "stream",
     "text": [
      "c:\\Users\\16343\\anaconda3\\Lib\\site-packages\\langsmith\\client.py:272: LangSmithMissingAPIKeyWarning: API key must be provided when using hosted LangSmith API\n",
      "  warnings.warn(\n"
     ]
    }
   ],
   "source": [
    "## Define the Retriever\n",
    "retriever = vectorstore.as_retriever(search_kwargs={\"k\": 5})\\\n",
    "## Define the prompt\n",
    "prompt = hub.pull(\"jclemens24/rag-prompt\")"
   ]
  },
  {
   "cell_type": "code",
   "execution_count": 4,
   "id": "1d5d91a8",
   "metadata": {},
   "outputs": [],
   "source": [
    "def format_docs(docs):\n",
    " return \"\\n\\n\".join(doc.page_content for doc in docs)"
   ]
  },
  {
   "cell_type": "code",
   "execution_count": 5,
   "id": "72cb5cff",
   "metadata": {},
   "outputs": [],
   "source": [
    "## Define the LLM\n",
    "llm = ChatOpenAI(model_name=\"gpt-4o-mini\")"
   ]
  },
  {
   "cell_type": "code",
   "execution_count": 6,
   "id": "2171b6e0",
   "metadata": {},
   "outputs": [],
   "source": [
    "## Define the chain\n",
    "rag_chain = (\n",
    "    {\"context\": retriever | format_docs,\n",
    "    \"question\": RunnablePassthrough()}\n",
    "    | prompt\n",
    "    | llm\n",
    "    | StrOutputParser()\n",
    ")"
   ]
  },
  {
   "cell_type": "code",
   "execution_count": 7,
   "id": "935b8f80",
   "metadata": {},
   "outputs": [
    {
     "data": {
      "text/plain": [
       "'Klay Thompson has 4 NBA championships.'"
      ]
     },
     "execution_count": 7,
     "metadata": {},
     "output_type": "execute_result"
    }
   ],
   "source": [
    "rag_chain.invoke(\"How many championship does Klay Thompson has ?\")"
   ]
  }
 ],
 "metadata": {
  "kernelspec": {
   "display_name": "base",
   "language": "python",
   "name": "python3"
  },
  "language_info": {
   "codemirror_mode": {
    "name": "ipython",
    "version": 3
   },
   "file_extension": ".py",
   "mimetype": "text/x-python",
   "name": "python",
   "nbconvert_exporter": "python",
   "pygments_lexer": "ipython3",
   "version": "3.11.7"
  }
 },
 "nbformat": 4,
 "nbformat_minor": 5
}
