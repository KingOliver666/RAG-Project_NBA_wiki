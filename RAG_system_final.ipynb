{
 "cells": [
  {
   "cell_type": "code",
   "execution_count": 1,
   "id": "9b36adf0",
   "metadata": {},
   "outputs": [],
   "source": [
    "import os\n",
    "from dotenv import load_dotenv\n",
    "# ✅ Step 1: Load environment variables\n",
    "load_dotenv()\n",
    "# Make sure to set your OpenAI API key in the .env file or directly here\n",
    "\n",
    "# ✅ Step 2: Import libraries\n",
    "from langchain_openai import OpenAIEmbeddings\n",
    "from langchain_openai import ChatOpenAI\n",
    "from langchain_community.vectorstores import FAISS\n",
    "from langchain import hub\n",
    "import openai\n",
    "from langchain_core.output_parsers import StrOutputParser\n",
    "from langchain_core.runnables import RunnablePassthrough\n",
    "from langchain_core.prompts import PromptTemplate\n",
    "from langchain_core.runnables import RunnableParallel\n",
    "from langchain_community.retrievers import BM25Retriever\n",
    "from langchain.docstore.document import Document\n",
    "from langchain.retrievers import EnsembleRetriever\n",
    "import asyncio\n",
    "import nest_asyncio\n",
    "asyncio.set_event_loop_policy(asyncio.DefaultEventLoopPolicy())\n",
    "nest_asyncio.apply()\n",
    "import gradio as gr\n",
    "\n",
    "openai.api_key = os.getenv(\"OPENAI_API_KEY\")  # Ensure you have set this in your .env file\n",
    "embedding = OpenAIEmbeddings(openai_api_key=openai.api_key)\n",
    "vectorstore = FAISS.load_local(\"nba_vector_db_semantic\", embeddings=embedding, allow_dangerous_deserialization=True)"
   ]
  },
  {
   "cell_type": "code",
   "execution_count": 2,
   "id": "8f02db40",
   "metadata": {},
   "outputs": [],
   "source": [
    "documents = vectorstore.docstore._dict.values()"
   ]
  },
  {
   "cell_type": "code",
   "execution_count": 40,
   "id": "834a306e",
   "metadata": {},
   "outputs": [],
   "source": [
    "## Define the Dense Retriever and BM25 Retriever\n",
    "dense_retriever = vectorstore.as_retriever(search_kwargs={\"k\": 10})\n",
    "sparse_retriever = BM25Retriever.from_documents(list(documents), k=10)\n",
    "ensemble_retriever = EnsembleRetriever(retrievers=[dense_retriever, sparse_retriever], weights=[0.5, 0.5], c=0)"
   ]
  },
  {
   "cell_type": "code",
   "execution_count": 41,
   "id": "1522a0a1",
   "metadata": {},
   "outputs": [
    {
     "name": "stderr",
     "output_type": "stream",
     "text": [
      "c:\\Users\\16343\\anaconda3\\Lib\\site-packages\\langsmith\\client.py:272: LangSmithMissingAPIKeyWarning: API key must be provided when using hosted LangSmith API\n",
      "  warnings.warn(\n"
     ]
    }
   ],
   "source": [
    "## Define the prompt\n",
    "prompt = hub.pull(\"jclemens24/rag-prompt\")"
   ]
  },
  {
   "cell_type": "code",
   "execution_count": 42,
   "id": "7237da97",
   "metadata": {},
   "outputs": [],
   "source": [
    "relevance_prompt_template = PromptTemplate.from_template(\n",
    "    \"\"\"\n",
    "    Given the following question and retrieved context, determine if the context is relevant to the question.\n",
    "    Provide a score from 1 to 5, where 1 is not at all relevant and 5 is highly relevant.\n",
    "    Return ONLY the numeric score, without any additional text or explanation.\n",
    "\n",
    "    Question: {question}\n",
    "    Retrieved Context: {retrieved_context}\n",
    "\n",
    "    Relevance Score:\"\"\"\n",
    ")"
   ]
  },
  {
   "cell_type": "code",
   "execution_count": 43,
   "id": "1d5d91a8",
   "metadata": {},
   "outputs": [],
   "source": [
    "def format_docs(docs):\n",
    " return \"\\n\\n\".join(doc.page_content for doc in docs)"
   ]
  },
  {
   "cell_type": "code",
   "execution_count": 44,
   "id": "8126f0bd",
   "metadata": {},
   "outputs": [],
   "source": [
    "def extract_score(llm_output):\n",
    "    try:\n",
    "        score = float(llm_output.strip())\n",
    "        return score\n",
    "    except ValueError:\n",
    "        return 0\n",
    "\n",
    "# Chain it all together with LangChain\n",
    "def conditional_answer(x):\n",
    "    relevance_score = extract_score(x['relevance_score'])\n",
    "    if relevance_score < 2:\n",
    "        return \"I don't know.\"\n",
    "    else:\n",
    "        return x['answer']"
   ]
  },
  {
   "cell_type": "code",
   "execution_count": 45,
   "id": "72cb5cff",
   "metadata": {},
   "outputs": [],
   "source": [
    "## Define the LLM\n",
    "llm = ChatOpenAI(model_name=\"gpt-4o-mini\")\n",
    "str_output_parser = StrOutputParser()"
   ]
  },
  {
   "cell_type": "code",
   "execution_count": 46,
   "id": "2171b6e0",
   "metadata": {},
   "outputs": [],
   "source": [
    "## Define the chain\n",
    "rag_chain_from_docs = (\n",
    "    RunnablePassthrough.assign(context=(lambda x: format_docs(x[\"context\"])))\n",
    "    | RunnableParallel(\n",
    "        {\"relevance_score\": (\n",
    "            RunnablePassthrough()\n",
    "            | (lambda x: relevance_prompt_template.format(question=x['question'], retrieved_context=x['context']))\n",
    "            | llm\n",
    "            | str_output_parser\n",
    "        ), \"answer\": (\n",
    "            RunnablePassthrough()\n",
    "            | prompt\n",
    "            | llm\n",
    "            | str_output_parser\n",
    "        )}\n",
    "    )\n",
    "    | RunnablePassthrough().assign(final_answer=conditional_answer)\n",
    ")"
   ]
  },
  {
   "cell_type": "code",
   "execution_count": 47,
   "id": "935b8f80",
   "metadata": {},
   "outputs": [],
   "source": [
    "rag_chain_with_source = RunnableParallel(\n",
    "    {\"context\": dense_retriever, \"question\": RunnablePassthrough()}\n",
    ").assign(answer=rag_chain_from_docs)"
   ]
  },
  {
   "cell_type": "code",
   "execution_count": 50,
   "id": "0f5eded2",
   "metadata": {},
   "outputs": [
    {
     "name": "stdout",
     "output_type": "stream",
     "text": [
      "Relevance Score: 5\n",
      "Final Answer:\n",
      "Yes, LeBron James has a son named Bronny James.\n"
     ]
    }
   ],
   "source": [
    "result = rag_chain_with_source.invoke(\"Does Lebron James have a son?\")\n",
    "retrieved_docs = result['context']\n",
    "relevance_score = result['answer']['relevance_score']\n",
    "final_answer = result['answer']['final_answer']\n",
    "\n",
    "print(f\"Relevance Score: {relevance_score}\")\n",
    "print(f\"Final Answer:\\n{final_answer}\")"
   ]
  },
  {
   "cell_type": "code",
   "execution_count": 51,
   "id": "cc0b4f00",
   "metadata": {},
   "outputs": [
    {
     "data": {
      "text/plain": [
       "[Document(id='081825c2-cb83-47a0-afd7-932682509ba8', metadata={'player': 'Bronny James'}, page_content='LeBron Raymone \"Bronny\" James Jr. (born October 6, 2004) is an American professional basketball player for the Los Angeles Lakers of the National Basketball Association (NBA). A consensus four-star recruit, James was named a McDonald\\'s All-American as a senior in high school in 2023. He played one season of college basketball for the USC Trojans before being selected by the Lakers in the second round of the 2024 NBA draft. He is the eldest child and teammate of professional basketball player LeBron James Sr., making them the first active father-son duo in NBA history. James was born on October 6, 2004, in Akron, Ohio, to reigning NBA Rookie of the Year LeBron James, age 19, and his girlfriend Savannah Brinson, age 18. He was raised by both of his parents, who married in 2013.'),\n",
       " Document(id='d9df9985-c83c-4924-b443-6b6cf06c4be1', metadata={'player': 'LeBron James'}, page_content='since 2011 and leads the LeBron James Family Foundation, which has opened an elementary school, housing complex, retail plaza, and medical center in Akron. LeBron Raymone James was born on December 30, 1984, in Akron, Ohio, to Gloria Marie James, who was only 16 at the time of his birth.: 22 His father, Anthony McClelland, has an extensive criminal record and was not involved in his life. When James was growing up, life was often a struggle for the family, as they moved from apartment to apartment in the seedier neighborhoods of Akron while Gloria struggled to find steady work.'),\n",
       " Document(id='07c60dea-3679-436f-8736-167d8f5212fc', metadata={'player': 'LeBron James'}, page_content='LeBron Raymone James Sr. ( lə-BRON; born December 30, 1984) is an American professional basketball player for the Los Angeles Lakers of the National Basketball Association (NBA). Nicknamed \"King James\", he is the NBA\\'s all-time leading scorer and has won four NBA championships from 10 NBA Finals appearances, having made eight consecutive appearances between 2011 and 2018. He also won the inaugural NBA Cup in 2023 with the Lakers and has won three Olympic gold medals as a member of the U.S. national team. In addition to ranking fourth in NBA career assists and sixth in NBA career steals, James holds several individual honors, including four NBA MVP awards, four Finals MVP awards, the Rookie of the Year award, three All-Star Game MVP awards, the inaugural NBA Cup MVP, and the Olympics MVP in the 2024 Summer Olympics. A record 21-time All-Star and 21-time All-NBA selection (including a record 13 First Team selections), he has also made six All-Defensive Teams. The oldest active player in the NBA, he is tied with Vince Carter for the most seasons played and holds the record for the most minutes played in league history. Born and raised in Akron, Ohio, James gained national attention at St. Vincent–St. Mary High School and was heavily touted as a future NBA superstar for his all-around scoring, passing, athleticism and playmaking abilities. A prep-to-pro, James was selected by the Cleveland Cavaliers with the first overall pick of the 2003 NBA draft. He won Rookie of the Year and quickly established himself as one of the league\\'s premier players, leading Cleveland to its first NBA Finals appearance in 2007 and winning the scoring title in 2008. After winning back-to-back MVPs in 2009 and 2010, he left the Cavaliers and joined the Miami Heat as a free agent in 2010, a controversial move announced in the nationally televised special titled The Decision. With the Heat, James won his first two NBA championships in 2012 and 2013, earning MVP and Finals MVP honors both years. After four seasons in Miami, he returned to Cleveland in 2014, leading the Cavaliers to their first-ever championship in 2016 by overcoming a 3–1 deficit against the Golden State Warriors and ending the Cleveland sports curse. He signed with the Lakers in 2018, winning another title in 2020 and becoming the first player to win Finals MVP with three different teams. In 2023, he surpassed Kareem Abdul-Jabbar to become the NBA\\'s all-time leading scorer, and in 2024, he and his son Bronny became the first father-son teammates in league history. In 2025, James was inducted into the Naismith Memorial Basketball Hall of Fame as a member of the 2008 U.S. Olympic team (also known as the \"Redeem Team\"). Off the court, James has earned further wealth and fame from numerous endorsement contracts. He is the first player in NBA history to accumulate $1 billion in earnings as an active player. James has been featured in books, documentaries (including winning three Sports Emmy Awards as an executive producer), and television commercials. He was among Time\\'s 100 most influential people in the world in 2005, 2013, 2017, and 2019 — the most selections for a professional athlete. James has won 20 ESPY Awards, hosted Saturday Night Live, and starred in the sports film Space Jam: A New Legacy (2021). He has been a part-owner of Liverpool F.C.'),\n",
       " Document(id='6dedc95c-7959-4675-a232-d8863d52c077', metadata={'player': 'Bronny James'}, page_content='Vincent–St. Mary High School in the Chosen-1\\'s Invitational at Staples Center, as Bailey was sidelined with an ankle injury. His team was upset by Harvard-Westlake School in the CIF Southern Section Open Division semifinals, where he scored four points. Sierra Canyon reached the Open Division regional final, losing to Centennial High School, 83–59, and James was held scoreless while playing through hip soreness. The team ended the season with a 26–5 record. As a junior, James averaged 8.8 points, 3.3 rebounds, 2.8 assists and 1.9 steals per game in 29 appearances. = In his senior season, James stepped into a leading role and was joined on the team by his younger brother, Bryce. In August 2022, he played alongside his Sierra Canyon teammates for CBC in three exhibition games in Europe. In his second game, James led all scorers with 25 points in a 97–85 loss to U18 French Select in Paris. On October 29, James and his team were evacuated from a preseason game against the Hyattsville Stags, a team representing DeMatha Catholic High School, after a fight broke out in the stands and a fan reported seeing a gun. Although no firearms were found, the game was not resumed. After missing the first two regular season games with an illness, James made his senior debut on November 26, recording 13 points, four assists and three rebounds in a 63–60 overtime loss to Rancho Christian School. In his first home game on November 30, he scored 25 points in a 77–61 win over Crossroads School. In January 2023, James missed four games with a knee injury and scored 19 points in his return on February 1 as his team lost to Notre Dame High School, 88–61, at the Mission League semifinals. Sierra Canyon was relegated from the CIF Open Division to Division I after its worst performance in the regular season and Southern Section Open Division playoffs in the tenure of Andre Chevalier. James scored 10 points in an 80–68 season-ending loss to Notre Dame High School at the Division I regional final. As a senior, he averaged 14.2 points, 5.5 rebounds, 2.4 assists and 1.8 steals per game, leading his team to a 23–11 record. He was selected to play in the McDonald\\'s All-American Game and was named to the United States team for the Nike Hoop Summit. James scored 15 points, making five three-pointers which tied the record for most made three-pointers in the event ever while dishing out 4 assists and 2 steals, in a 109–106 loss at the McDonald\\'s All-American Game and finished second in the event\\'s dunk contest. In the Nike Hoop Summit, he scored 11 points, 4 rebounds, a steal and a block as along with hitting the go ahead free-throws as his team won, 90–84. = By 2015, James was receiving scholarship offers and letters of interest from college basketball programs, according to his father, who commented, \"It should be a violation. You shouldn\\'t be recruiting 10-year-old kids.\" In 2016, ESPN reported that James held offers from Duke and Kentucky. Entering high school, analysts viewed him a high major NCAA Division I prospect. He first appeared in recruiting rankings before his sophomore season, and 247Sports and ESPN rated him a four-star recruit and a top-30 player in the 2023 class. Early in his junior season coming off a season ending injury, James fell to 52nd and 49th in rankings by 247Sports and ESPN, respectively, and he dropped 31 spots to number 60 in rankings by Rivals in June 2022. In his senior season, he rose in rankings from each service with On3 ranking James the 9th-best player in his class . On January 17, 2023, the Los Angeles Times reported that James would decide between attending college at Ohio State, Oregon or USC. On May 6, James announced his commitment to USC, with Ohio State being his other finalist. In March 2023, James was projected as a top-ten pick in the 2024 NBA draft and, according to ESPN NBA draft analyst Jonathan Givony, was seen as the most improved prospect in the country. On July 24, 2023, at about 9:26 a.m. PDT, James collapsed during a USC practice session at the Galen Center. It was later revealed that he had suffered cardiac arrest caused by a congenital heart defect. James was released from the hospital on July 27. Less than five months later, James made his collegiate debut for the Trojans on December 10, finishing with four points, three rebounds, two assists, two steals, and one block off the bench in an 84–79 loss against Long Beach State. On December 30, James scored a career-high 15 points on 6-of-11 from the field and had three assists in a road loss against Oregon State. On January 17, 2024, James played a season-high 30 minutes and recorded 11 points, five rebounds and six assists in an 82–67 loss to No. 12 Arizona. James appeared in USC\\'s final 25 games, starting six and averaging 4.8 points, 2.8 rebounds and 2.1 assists in 19.3 minutes. On April 5, 2024, James announced on Instagram that he would enter the 2024 NBA draft while maintaining his college eligibility and also enter the transfer portal. In early May 2024, James was medically cleared to be eligible for the NBA draft. On May 28, 2024, it was reported that James had at least 10 workout invites from NBA teams but only visited a \"couple\" of those teams, which included the Los Angeles Lakers and Phoenix Suns. He later had workouts with only those two teams. = On June 27, 2024, James was selected by the Los Angeles Lakers with the 55th overall pick in the 2024 NBA draft. The selection paired James with his father, becoming the first-ever father–son duo to be in the NBA at the same time. On July 3, he signed a contract with the Lakers. He played for the Lakers in the NBA Summer League and played six games during the preseason. On October 22, 2024, in the season opener against the Minnesota Timberwolves, James and his father became the first father-son duo to play together in the NBA. Bronny debuted with a rebound in three minutes of play in the Lakers\\' 110–103 win over the Timberwolves. On October 30, he scored his first NBA basket—alongside two assists and a steal—in a 134–110 loss to the Cleveland Cavaliers. Throughout his rookie season, James has been assigned several times to the South Bay Lakers of the NBA G League. On December 12, 2024, he scored a game-high 30 points on 13-of-23 shooting in South Bay\\'s 106–100 loss to the Valley Suns. On January 24, 2025, he scored a then career-high 31 points in a 122–110 win over the Rip City Remix. On January 31, 2025, returning from the G League in a win over the Washington Wizards, James put up five points on 1–for–6 shooting, two rebounds, and two assists, playing the entire fourth quarter. On March 20, James recorded his first double-digit scoring game of his NBA career, co-leading the shorthanded Lakers with 17 points on 7-of-10 shooting and five assists in a 118–89 loss to the Milwaukee Bucks. On March 24, 2025, he scored a career and game-high 39 points with seven rebounds, four assists, a team-high four steals and one block in South Bay\\'s 122–118 win over the Santa Cruz Warriors. In the Lakers\\' regular-season finale on April 13, with the team\\'s starters rested, James made his first career start and finished with four points in a 109–81 loss to the Portland Trail Blazers. James stands at 6 feet 1.5 inches (1.867 m) barefoot and can play the point guard and shooting guard positions. Analysts have described shooting and defense as his main strengths, although he lacks the size of most NBA players with his skill set. James excels in catch-and-shoot situations and can also shoot off movement. He can defend point guards; his defensive anticipation and intensity have been praised. In 2023, ESPN\\'s Givony said James was developing into one of the top perimeter defenders in his class. Jonathan Wasserman described James as possessing a high basketball IQ and being a willing passer. Although he is a reliable ball-handler, he can struggle to create separation from defenders. His driving and finishing abilities have been labeled as weaknesses, although he has the strength to finish through contact. James\\'s playing style has drawn comparisons to De\\'Anthony Melton, Lonzo Ball, Miles McBride, and Jrue Holiday. James has been described as a nepo baby, with critics suggesting that his father\\'s influence played a significant role in his opportunities. After James was selected to play in the 2023 McDonald\\'s All-American Game, recruiting analyst Dinos Trigonis raised concerns about a \"smell of nepotism here that isn\\'t good for our kids.\" The Los Angeles Lakers faced similar allegations after their selection of James in the 2024 NBA draft, which allowed him to play on the same team as his father despite widespread concerns about his lackluster college play and readiness for the league. According to ESPN analyst Bob Myers, James\\'s agent, Rich Paul, discouraged other teams from selecting him in the draft, threatening to have him play overseas if chosen by another team. ESPN reporter Adrian Wojnarowski addressed the claims of nepotism by stating that such practices are prevalent in various roles in the NBA. = Regular season Playoffs = James\\'s godfather is NBA All-Star Chris Paul, who is a close friend of his father. In 2020, James signed with esports organization FaZe Clan. Through the partnership, he was expected to stream Fortnite and Call of Duty: Warzone under the handle \"FaZe Bronny.\" In June 2021, James made his first appearance on the cover of Sports Illustrated alongside members of FaZe Clan, including NFL quarterback Kyler Murray. James has established a large social media following since high school.'),\n",
       " Document(id='db9d29b8-1070-4947-a26a-150da92b492f', metadata={'player': 'LeBron James'}, page_content='delegation, James was named as one of the two Team USA flag-bearers for the opening ceremony of the games, becoming the first male basketball player to be so honored. James led the team in rebounds and assists. He recorded his second Olympic triple double in a comeback win in the semi-final against Serbia with 16 points, 12 rebounds and 10 assists. James became the first player in Olympic history with two triple doubles. Team USA went on to win their fifth straight gold medal, defeating France 98–87 in the final game, with James recording 14 points, 6 rebounds and 10 assists. At the conclusion of the tournament with averages of 14.2 points, 6.8 rebounds and 8.5 assists, James was named the FIBA Men\\'s Olympics MVP and was selected to the FIBA Men\\'s Olympics All-Star Five. James became the third male basketball player to win three gold medals at the Olympics. Standing 6 feet 9 inches (2.06 m) tall and weighing 250 pounds (113 kg), James has played the majority of his career at the small forward and power forward positions, but he has also been deployed at the other positions when necessary. His playing style, which is athletic and versatile, has drawn comparisons to Basketball Hall of Fame players Oscar Robertson; Magic Johnson and Michael Jordan. Through the 2024–25 season, James\\'s career averages are 27.0 points, 7.5 rebounds, 7.4 assists, 1.5 steals, and 0.7 blocks per game. Throughout the 2010s, he was usually ranked as the best player in the NBA each season by ESPN and Sports Illustrated. = As an 18-year-old rookie, James led the Cavaliers in scoring. He holds numerous \"youngest to\" distinctions, including being the youngest player to score 30,000 career points. During his first stint in Cleveland, James was primarily used as an on-ball point forward, and although his shooting tendencies were perimeter-oriented, he established himself as one of the best slashers and finishers in basketball. His combination of speed, quickness, and size often created matchup problems for opposing teams because James was capable of blowing by larger defenders and overpowering smaller ones. These qualities became more apparent in transition, where he developed a reputation for grabbing defensive rebounds and then beating the defense downcourt for highlight reel baskets. Around this time, James was frequently criticized for not having a reliable jump shot or post game. Teams would try to exploit these weaknesses by giving him space in the half court and forcing him to settle for three-pointers and long two-pointers, a strategy famously used by Spurs coach Gregg Popovich in the 2007 Finals, where James converted on only 36 percent of his field goals in four games. In Miami, Heat coach Erik Spoelstra changed James\\'s role to a more unconventional one. James spent more time in the post and improved his shot selection and accuracy on jump shots. He also learned how to work as an off-ball cutter in the Heat\\'s \"pass-happy\" offense. Behind these improvements, James\\'s overall scoring efficiency rose to historically great levels. During this time, ESPN\\'s Tom Haberstroh called James\\'s free-throw shooting his biggest weakness, describing it as \"average\". Upon returning to the Cavaliers, James began to experience subtle age-related declines in productivity, posting his lowest scoring averages since his rookie season in 2015 and 2016. His shooting also temporarily regressed, and James briefly ranked as the NBA\\'s worst high-volume shooter from outside the paint. Despite these changes, he remained an elite offensive player who beat defenses with body control, strength, and varying attacking speeds. For most of his career, James has controlled the offense as the primary ball handler on his team. His playmaking ability is generally considered one of his premier skills, and some analysts rank him among the greatest passers in NBA history. By exploiting his size, vision, and the attention James garners from opposing defenses, he creates easy points for his teammates with accurate assists. James executes unconventional passes, including after leaving his feet and through defensive traffic. His uncanny tendency to find the open man has helped force NBA teams to incorporate some elements of zone into their schemes to better cover the weak side of the court and prevent James from passing to open shooters. Early in his career, James was criticized for overpassing in pressure situations, in particular for passing instead of shooting in the waning seconds of close games; however, as his career progressed, James\\'s clutch performance was viewed more favorably. = At the beginning of his NBA career, James was considered a poor defensive player, but he improved steadily through the years. In 2009, James became proficient at the chase-down block, which involves coming in from behind the opposition in transition to block the shot. In Miami, he developed into a more versatile defensive player, and the Heat relied on him to guard all five positions. From the years 2012–2016, he was ranked among the top three defenders in the NBA by general managers, earning the vote as the best perimeter defender in the league preceding the 2014–15 NBA season. Along with Shane Battier and Dwyane Wade, Miami used James in an ultra-aggressive defensive scheme, with James cheating off the ball to help out inside or get into rebounding position. Beginning in 2014, some analysts reported a regression in his defensive impact, stemming from a lack of effort and expected age-related declines. During his second stint in Cleveland, James\\'s defense progressively declined. After missed drives on offense, he often dawdled back on defense while complaining to the referees; he provided less help off the ball, and was less aggressive in switching. James himself admitted to taking plays off at times, referring to this approach as \"chill mode\". He eventually developed a reputation for raising his defensive level in the playoffs, which some analysts referred to as \"Playoff LeBron\". James left high school as one of the most hyped prospects in NBA history. Upon entering the NBA, he made an immediate impact and was voted Rookie of the Year in his debut season. As of 2024, James has been named to 21 All-NBA Teams, including 13 times to the First Team, which are both NBA records. His four MVP awards are matched only by Michael Jordan, Kareem Abdul-Jabbar, Wilt Chamberlain, and Bill Russell; James and Russell are the only players to win four MVP awards in a five-year span. James has also won four Finals MVP Awards, which is the second-most all-time, and earned All-Defensive honors every season from 2009 to 2014. While James has never won the Defensive Player of the Year Award, he has finished second in the voting twice and lists it as one of his main goals. His teams have appeared in the Finals ten times and won four championships; his 10 Finals appearances are tied for third all-time. Some analysts have criticized him for not having a better Finals record, while others have countered that James usually performed well but his team was defeated by superior competition. On the basis of his career longevity and on-court performances, sports publications have consistently included James in rankings of the best basketball players in history, and he was named the Associated Press Male Athlete of the Decade for the 2010s. This has resulted in frequent comparisons to Jordan in debates over the sport\\'s all-time best. In a 2016 interview with Sports Illustrated, James acknowledged that his motivation was surpassing Jordan as the greatest. In February 2018, The Ringer spent an entire week devoted to both players, with Bill Simmons ultimately concluding that Jordan was still ahead. In polls, James has ranked second behind Jordan. The results strongly correlate with age, with older voters more commonly choosing Jordan. Davis et al. of Business Insider stated: \"The data would suggest that younger, more-engaged NBA fans lean toward James, as he\\'s still playing. Older generations who watched Jordan play and tune in less today lean toward Jordan.\" Referring to James as the best challenger to Jordan\\'s status as the greatest basketball player of all time, Sam Quinn of CBS Sports stated that \"the margin for error where Jordan is involved is overwhelmingly slim\" and that \"in the rings-obsessed basketball discourse\", Jordan having more titles and an \"unblemished Finals record holds significant weight\". In addition to praising James\\'s on-court accomplishments, analysts have also noted his influence on player empowerment throughout the NBA, which stemmed from his willingness to change teams during free agency. Ben Golliver of The Washington Post opined that James\\'s move to the Heat in 2010 \"defined a decade of player movement\", and that he \"fundamentally flipped the power balance between stars and their organizations.\" James\\'s fellow players have also remarked on his influence, such as Warriors forward Draymond Green, who reflected: \"We\\'ve taken control of our destiny. And I think a lot of people hate that ... I think the doors that he\\'s opened for athletes and especially basketball players is his biggest accomplishment.\" Multiple current and former NBA players have suggested James\\'s free agency decisions catalyzed the league-wide trend in \"superteams\" in the 21st century. In 2022, James voiced his desire to play into his forties, potentially alongside or against his sons Bronny and Bryce. This eventually happened when Bronny was selected by the Lakers 55th overall in the 2024 NBA draft, making them the first father-son duo in NBA history. On October 22, 2024, in the season opener against the Minnesota Timberwolves, they shared the court for the first time. James married his high school sweetheart, Savannah James, on September 14, 2013, in San Diego, California. They have three children: sons Bronny and Bryce, and daughter Zhuri. Bronny was a standout high school basketball player, named as a McDonald\\'s All-American in 2023, 20 years after James\\'s selection. During his stint with the Heat, James resided in Coconut Grove, where he bought a $9 million three-story mansion overlooking Biscayne Bay. In November 2015, James bought a 9,350 square-foot (870 m2) East Coast-style mansion in Brentwood, Los Angeles, for about $21 million. He purchased another home in Brentwood in December 2017 for $23 million. In September 2020, he purchased a third home in Los Angeles, this one in Beverly Hills for $36.75 million. James also owns a 30,000 square foot mansion in Akron, Ohio that he custom built in 2003 on his property at a cost of $2.1 million. James\\'s best friends in the NBA are Carmelo Anthony, Chris Paul, and former Heat teammate Dwyane Wade. The four have been referred to as the \"banana boat crew\".'),\n",
       " Document(id='ef6c4e30-a89c-4b17-a7b8-4e03de4f5028', metadata={'player': 'LeBron James'}, page_content='During an excursion to the Bahamas, James rescued Anthony from the water when Anthony was carried away from the boat by the current. During an Instagram Live session, Anthony later recounted: \"He saved my life\". When asked about how much danger Anthony was in prior to the rescue, James responded: \"I don\\'t really know what to say, to be honest. I\\'m just happy he\\'s still here, obviously.\" James also maintains a friendship with fellow NBA player Draymond Green. In September 2023, ESPN reported that a new set of client names from the Biogenesis scandal had been released; included was Ernest \"Randy\" Mims, a longtime friend and business manager of James, as well as David Alexander, a well-known trainer of prominent athletes who co-owned a cold-pressed juice and smoothie business with Savannah and also served as her personal trainer. The DEA determined that there \"was never any indication that LeBron James did anything wrong.\" = James invests heavily in his health, reportedly spending $1.5 million a year to pay for personal chefs, athletic trainers, and physical therapies for recovery. Kyle Korver has described James\\'s fitness as being on \"another level\". However, James\\'s routine is not perfectly clean; he drinks wine every night, believing it to be good for his heart, while Tristan Thompson has stated that James eats desserts with every meal. In a March 2025 interview, James denied spending that much on his health, claiming he did not know where that number came from. In January 2009, doctors at the Cleveland Clinic discovered a growth in the right side of James\\'s jaw. Biopsy results showed that James developed a benign jaw tumor, specifically in his parotid gland, which required a five-hour surgery to remove on June 2 after the end of the Cavaliers\\' run in the 2009 playoffs. = James is considered by fellow NBA players, media tabloids, and popular culture to be the \"face of the NBA\", often alongside Warriors superstar Stephen Curry.'),\n",
       " Document(id='fc631141-a71a-416d-9015-2a9e9a6c6dfd', metadata={'player': 'Matt Bonner'}, page_content='He has a younger brother, Luke, who was also a professional basketball player.'),\n",
       " Document(id='0e70d42f-f747-4c31-9bdd-b98b86d8d1ea', metadata={'player': 'Bronny James'}, page_content=\"As a child, James played several sports including basketball and soccer, but his father did not allow him to play football or ice hockey because of safety concerns. By the time James was 10 years old, his highlights from youth basketball games were drawing national attention. During his childhood, James played for the Miami City Ballers with teammates such as Jett Howard and the Houston-based Gulf Coast Blue Chips. In middle school, he competed for the North Coast Blue Chips, a team that included Mikey Williams. James also played for Old Trail School in Bath Township, Summit County, Ohio, where he attended middle school, and led his team to an Independent School League tournament win. In July 2018, a youth game featuring James was canceled after a fan wearing a Michael Jordan jersey heckled his father and was denied entrance. On August 6, 2018, he enrolled at Crossroads School, a private K–12 school in Santa Monica, California. California state rules prevented him from immediately joining the varsity team because he was in eighth grade. On December 3, 2018, in his first game for the school, James scored 27 points in a 61–48 victory over Culver City Middle School. In April 2019, he made his Nike Elite Youth Basketball League (EYBL) debut with Strive for Greatness. = On May 29, 2019, James transferred to Sierra Canyon School, a private K–12 school in Chatsworth, Los Angeles, for his freshman year of high school. He joined the school with his brother Bryce and incoming senior Zaire Wade, son of Dwyane Wade, a longtime teammate of James’s father. Sierra Canyon's basketball program, under head coach Andre Chevalier, was one of the best in the nation and won the previous two California Interscholastic Federation (CIF) Open Division state titles. The 2019–20 team was led by five-star recruits, Brandon Boston Jr.\"),\n",
       " Document(id='0cc00a00-d83d-4103-a02a-f147cc3491fc', metadata={'player': 'Bronny James'}, page_content=\"In high school, James signed NIL deals with Nike and Beats by Dre. = James has worn the number 0 jersey because it is the number worn by his favorite NBA player, Russell Westbrook. He has also worn the number 23 jersey in honor of his father. Then, in July 2024, James chose the number 9 jersey for his professional debut in the NBA during the 2024–25 Los Angeles Lakers season. The decision was made to honor musician Juice Wrld, alluding to Juice's 2017 debut EP 9 9 9. List of second-generation NBA players USC Trojans bio Sierra Canyon Trailblazers bio USA Basketball bio Bronny James on Instagram\\n\\nIn the 2024–25 season, Bronny James played for L.A. Lakers in 27 games.\"),\n",
       " Document(id='8ef0655b-8957-495d-ae6f-3384be4650b8', metadata={'player': 'Meyers Leonard'}, page_content='They were married at the beginning of August 2015. The Leonards founded a sports bar company together called Level Foods. On June 7, 2022, their son Liam Walter Leonard was born. Their second son, Jackson James Leonard was born May 14, 2025 In April 2019, Leonard invested in FaZe Clan as a content creator. The Leonards have donated $500,000 to the Illinois Athletic Department toward the renovation of the site of their first date, the Ubben Basketball Complex. = On March 9, 2021, Leonard received criticism for using the antisemitic slur \"kike\" during a Twitch stream while playing Call of Duty: Warzone. The Heat announced the same day that they were reviewing the matter and that Leonard would be \"away from the team indefinitely.\" The eSports organization FaZe Clan cut ties with him later that day, although he remained an investor.')]"
      ]
     },
     "execution_count": 51,
     "metadata": {},
     "output_type": "execute_result"
    }
   ],
   "source": [
    "retrieved_docs"
   ]
  },
  {
   "cell_type": "code",
   "execution_count": 11,
   "id": "7b426e11",
   "metadata": {},
   "outputs": [],
   "source": [
    "# Gradio Interface\n",
    "def process_question(question):\n",
    "    result = rag_chain_with_source.invoke(question)\n",
    "    relevance_score = result['answer']['relevance_score']\n",
    "    final_answer = result['answer']['final_answer']\n",
    "    return relevance_score, final_answer\n",
    "\n",
    "demo = gr.Interface(\n",
    "    fn=process_question,\n",
    "    inputs=gr.Textbox(label=\"Enter your question\"),\n",
    "    outputs=[\n",
    "        gr.Textbox(label=\"Relevance Score\"),\n",
    "        gr.Textbox(label=\"Final Answer\")\n",
    "    ],\n",
    "    title=\"NBA Player Question Answering\",\n",
    "    description=\"Enter a question and get the relevance score, final answer, and sources from RAG.\"\n",
    ")"
   ]
  },
  {
   "cell_type": "code",
   "execution_count": 12,
   "id": "3e54d569",
   "metadata": {},
   "outputs": [
    {
     "name": "stdout",
     "output_type": "stream",
     "text": [
      "* Running on local URL:  http://127.0.0.1:7860\n",
      "* Running on public URL: https://a4d65c183a651b0ab1.gradio.live\n",
      "\n",
      "This share link expires in 1 week. For free permanent hosting and GPU upgrades, run `gradio deploy` from the terminal in the working directory to deploy to Hugging Face Spaces (https://huggingface.co/spaces)\n"
     ]
    },
    {
     "data": {
      "text/html": [
       "<div><iframe src=\"https://a4d65c183a651b0ab1.gradio.live\" width=\"100%\" height=\"500\" allow=\"autoplay; camera; microphone; clipboard-read; clipboard-write;\" frameborder=\"0\" allowfullscreen></iframe></div>"
      ],
      "text/plain": [
       "<IPython.core.display.HTML object>"
      ]
     },
     "metadata": {},
     "output_type": "display_data"
    },
    {
     "data": {
      "text/plain": []
     },
     "execution_count": 12,
     "metadata": {},
     "output_type": "execute_result"
    }
   ],
   "source": [
    "demo.launch(share=True, debug=False, auth=(\"admin\", \"pass1234\")) # with credentials"
   ]
  }
 ],
 "metadata": {
  "kernelspec": {
   "display_name": "base",
   "language": "python",
   "name": "python3"
  },
  "language_info": {
   "codemirror_mode": {
    "name": "ipython",
    "version": 3
   },
   "file_extension": ".py",
   "mimetype": "text/x-python",
   "name": "python",
   "nbconvert_exporter": "python",
   "pygments_lexer": "ipython3",
   "version": "3.11.7"
  }
 },
 "nbformat": 4,
 "nbformat_minor": 5
}
